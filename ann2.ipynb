{
 "cells": [
  {
   "cell_type": "code",
   "execution_count": 1,
   "metadata": {},
   "outputs": [],
   "source": [
    "import numpy as np\n",
    "np.random.seed(1337)"
   ]
  },
  {
   "cell_type": "code",
   "execution_count": 2,
   "metadata": {},
   "outputs": [
    {
     "name": "stderr",
     "output_type": "stream",
     "text": [
      "Using TensorFlow backend.\n"
     ]
    }
   ],
   "source": [
    "from keras.models import Sequential\n",
    "from keras.layers.core import Dense, Dropout, Activation\n",
    "from keras import optimizers\n",
    "from keras.utils import np_utils"
   ]
  },
  {
   "cell_type": "code",
   "execution_count": 3,
   "metadata": {},
   "outputs": [],
   "source": [
    "import matplotlib.pyplot as plt\n",
    "from sklearn.decomposition import PCA"
   ]
  },
  {
   "cell_type": "code",
   "execution_count": 4,
   "metadata": {},
   "outputs": [],
   "source": [
    "batch_size = 10\n",
    "nb_classes = 1\n",
    "nb_epoch = 70000"
   ]
  },
  {
   "cell_type": "code",
   "execution_count": 5,
   "metadata": {},
   "outputs": [],
   "source": [
    "datapath = \"/Train_TEC_mar17.csv\""
   ]
  },
  {
   "cell_type": "code",
   "execution_count": 7,
   "metadata": {},
   "outputs": [],
   "source": [
    " def NeuralNetwork(x_train, y_train, x_test, y_test):\n",
    "        pca = PCA(n_components=7)\n",
    "        pca.fit(X_train)\n",
    "        X_train = pca.transform(X_train)\n",
    "        pca.fit(X_test)\n",
    "        X_test = pca.transform(X_test)\n",
    "        X_train = X_train/180000000.0\n",
    "        X_test = X_test/180000000.0\n",
    "\n",
    "\n",
    "        model = Sequential()\n",
    "        model.add(Dense(15, input_shape=(7,)))\n",
    "        model.add(Activation('tanh'))\n",
    "\n",
    "        model.add(Dense(11))\n",
    "        model.add(Activation('tanh'))\n",
    "\n",
    "        model.add(Dense(1))\n",
    "\n",
    "        model.summary()\n",
    "        sgd = optimizers.SGD(lr=0.1,momentum=0.2)\n",
    "        model.compile(loss='mean_absolute_error', optimizer=sgd, metrics=['accuracy'])\n",
    "\n",
    "        history = model.fit(X_train, Y_train,\n",
    "                            batch_size=batch_size, epochs=nb_epoch,\n",
    "                            verbose=1, validation_data=(X_test, Y_test))\n",
    "\n",
    "\n",
    "        score = model.evaluate(X_test, Y_test, verbose=0)\n",
    "        error = score[0]\n",
    "\n",
    "        plt.plot(history.history['loss'])\n",
    "        plt.show()\n",
    "        plt.gcf().clear()\n",
    "\n",
    "        return error"
   ]
  },
  {
   "cell_type": "code",
   "execution_count": 21,
   "metadata": {},
   "outputs": [
    {
     "name": "stdout",
     "output_type": "stream",
     "text": [
      "[[           nan            nan            nan            nan]\n",
      " [1.00000000e+00 3.00000000e+00 2.01700000e+03 1.63888890e-02]\n",
      " [1.00000000e+00 3.00000000e+00 2.01700000e+03 4.97222220e-02]\n",
      " ...\n",
      " [2.00000000e+01 3.00000000e+00 2.01700000e+03 2.39163889e+01]\n",
      " [2.00000000e+01 3.00000000e+00 2.01700000e+03 2.39497222e+01]\n",
      " [2.00000000e+01 3.00000000e+00 2.01700000e+03 2.39830556e+01]]\n",
      "[[           nan            nan            nan            nan]\n",
      " [1.00000000e+00 3.00000000e+00 2.01700000e+03 1.63888890e-02]\n",
      " [1.00000000e+00 3.00000000e+00 2.01700000e+03 4.97222220e-02]\n",
      " ...\n",
      " [2.00000000e+01 3.00000000e+00 2.01700000e+03 2.39163889e+01]\n",
      " [2.00000000e+01 3.00000000e+00 2.01700000e+03 2.39497222e+01]\n",
      " [2.00000000e+01 3.00000000e+00 2.01700000e+03 2.39830556e+01]]\n",
      "[[           nan            nan            nan            nan]\n",
      " [1.00000000e+00 3.00000000e+00 2.01700000e+03 1.63888890e-02]\n",
      " [1.00000000e+00 3.00000000e+00 2.01700000e+03 4.97222220e-02]\n",
      " ...\n",
      " [2.00000000e+01 3.00000000e+00 2.01700000e+03 2.39163889e+01]\n",
      " [2.00000000e+01 3.00000000e+00 2.01700000e+03 2.39497222e+01]\n",
      " [2.00000000e+01 3.00000000e+00 2.01700000e+03 2.39830556e+01]]\n",
      "[[           nan            nan            nan            nan]\n",
      " [1.00000000e+00 3.00000000e+00 2.01700000e+03 1.63888890e-02]\n",
      " [1.00000000e+00 3.00000000e+00 2.01700000e+03 4.97222220e-02]\n",
      " ...\n",
      " [2.00000000e+01 3.00000000e+00 2.01700000e+03 2.39163889e+01]\n",
      " [2.00000000e+01 3.00000000e+00 2.01700000e+03 2.39497222e+01]\n",
      " [2.00000000e+01 3.00000000e+00 2.01700000e+03 2.39830556e+01]]\n"
     ]
    }
   ],
   "source": [
    "def main():\n",
    "    errorLlist = []\n",
    "    for i in range(0,4):\n",
    "        data = np.genfromtxt(\"Train_TEC_mar17.csv\",delimiter=',',skip_header=0,dtype=float)\n",
    "#         data = np.genfromtxt(dataPath+\"inputnn\" + str(i+1) + \".csv\",delimiter=',',skip_header=0,dtype=float)\n",
    "        X_train = data[:,:4]\n",
    "        Y_train = data[:,4]\n",
    "        data = np.genfromtxt(\"Test_TEC_mar17.csv\",delimiter=',',skip_header=0,dtype=float)\n",
    "#         data = np.genfromtxt(dataPath+\"inputnn\" + str(i+1) + \"_test.csv\",delimiter=',',skip_header=0,dtype=float)\n",
    "        X_test = data[:,:4]\n",
    "        Y_test = data[:,4]\n",
    "#         #train and test nueral network for this segment\n",
    "#         error = NeuralNetwork(X_train,Y_train,X_test,Y_test)\n",
    "#         errorList.append(error)\n",
    "        print(X_train)\n",
    "\n",
    "if __name__ == \"__main__\":\n",
    "    main()"
   ]
  }
 ],
 "metadata": {
  "kernelspec": {
   "display_name": "Python 3.7.6 64-bit",
   "language": "python",
   "name": "python37664bitb78c490a6d4f4e5f83441c422e821dd5"
  },
  "language_info": {
   "codemirror_mode": {
    "name": "ipython",
    "version": 3
   },
   "file_extension": ".py",
   "mimetype": "text/x-python",
   "name": "python",
   "nbconvert_exporter": "python",
   "pygments_lexer": "ipython3",
   "version": "3.7.6"
  }
 },
 "nbformat": 4,
 "nbformat_minor": 4
}
