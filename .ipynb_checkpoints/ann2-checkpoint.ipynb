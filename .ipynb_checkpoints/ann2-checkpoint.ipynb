{
 "cells": [
  {
   "cell_type": "code",
   "execution_count": 1,
   "metadata": {},
   "outputs": [],
   "source": [
    "import numpy as np\n",
    "np.random.seed(1337)"
   ]
  },
  {
   "cell_type": "code",
   "execution_count": 2,
   "metadata": {},
   "outputs": [
    {
     "name": "stderr",
     "output_type": "stream",
     "text": [
      "Using TensorFlow backend.\n"
     ]
    }
   ],
   "source": [
    "from keras.models import Sequential\n",
    "from keras.layers.core import Dense, Dropout, Activation\n",
    "from keras import optimizers\n",
    "from keras.utils import np_utils"
   ]
  },
  {
   "cell_type": "code",
   "execution_count": 3,
   "metadata": {},
   "outputs": [],
   "source": [
    "import matplotlib.pyplot as plt\n",
    "from sklearn.decomposition import PCA"
   ]
  },
  {
   "cell_type": "code",
   "execution_count": 4,
   "metadata": {},
   "outputs": [],
   "source": [
    "batch_size = 10\n",
    "nb_classes = 1\n",
    "nb_epoch = 70000"
   ]
  },
  {
   "cell_type": "code",
   "execution_count": 5,
   "metadata": {},
   "outputs": [],
   "source": [
    "datapath = \"/Train_TEC_mar17.csv\""
   ]
  },
  {
   "cell_type": "code",
   "execution_count": 7,
   "metadata": {},
   "outputs": [],
   "source": [
    " def NeuralNetwork(x_train, y_train, x_test, y_test):\n",
    "        pca = PCA(n_components=7)\n",
    "        pca.fit(X_train)\n",
    "        X_train = pca.transform(X_train)\n",
    "        pca.fit(X_test)\n",
    "        X_test = pca.transform(X_test)\n",
    "        X_train = X_train/180000000.0\n",
    "        X_test = X_test/180000000.0\n",
    "\n",
    "\n",
    "        model = Sequential()\n",
    "        model.add(Dense(15, input_shape=(7,)))\n",
    "        model.add(Activation('tanh'))\n",
    "\n",
    "        model.add(Dense(11))\n",
    "        model.add(Activation('tanh'))\n",
    "\n",
    "        model.add(Dense(1))\n",
    "\n",
    "        model.summary()\n",
    "        sgd = optimizers.SGD(lr=0.1,momentum=0.2)\n",
    "        model.compile(loss='mean_absolute_error', optimizer=sgd, metrics=['accuracy'])\n",
    "\n",
    "        history = model.fit(X_train, Y_train,\n",
    "                            batch_size=batch_size, epochs=nb_epoch,\n",
    "                            verbose=1, validation_data=(X_test, Y_test))\n",
    "\n",
    "\n",
    "        score = model.evaluate(X_test, Y_test, verbose=0)\n",
    "        error = score[0]\n",
    "\n",
    "        plt.plot(history.history['loss'])\n",
    "        plt.show()\n",
    "        plt.gcf().clear()\n",
    "\n",
    "        return error"
   ]
  },
  {
   "cell_type": "code",
   "execution_count": 18,
   "metadata": {},
   "outputs": [
    {
     "ename": "IndexError",
     "evalue": "index 5 is out of bounds for axis 1 with size 5",
     "output_type": "error",
     "traceback": [
      "\u001b[1;31m---------------------------------------------------------------------------\u001b[0m",
      "\u001b[1;31mIndexError\u001b[0m                                Traceback (most recent call last)",
      "\u001b[1;32m<ipython-input-18-141006edeb1b>\u001b[0m in \u001b[0;36m<module>\u001b[1;34m\u001b[0m\n\u001b[0;32m     16\u001b[0m \u001b[1;33m\u001b[0m\u001b[0m\n\u001b[0;32m     17\u001b[0m \u001b[1;32mif\u001b[0m \u001b[0m__name__\u001b[0m \u001b[1;33m==\u001b[0m \u001b[1;34m\"__main__\"\u001b[0m\u001b[1;33m:\u001b[0m\u001b[1;33m\u001b[0m\u001b[1;33m\u001b[0m\u001b[0m\n\u001b[1;32m---> 18\u001b[1;33m     \u001b[0mmain\u001b[0m\u001b[1;33m(\u001b[0m\u001b[1;33m)\u001b[0m\u001b[1;33m\u001b[0m\u001b[1;33m\u001b[0m\u001b[0m\n\u001b[0m",
      "\u001b[1;32m<ipython-input-18-141006edeb1b>\u001b[0m in \u001b[0;36mmain\u001b[1;34m()\u001b[0m\n\u001b[0;32m      9\u001b[0m \u001b[1;31m#         data = np.genfromtxt(dataPath+\"inputnn\" + str(i+1) + \"_test.csv\",delimiter=',',skip_header=0,dtype=float)\u001b[0m\u001b[1;33m\u001b[0m\u001b[1;33m\u001b[0m\u001b[1;33m\u001b[0m\u001b[0m\n\u001b[0;32m     10\u001b[0m         \u001b[0mX_test\u001b[0m \u001b[1;33m=\u001b[0m \u001b[0mdata\u001b[0m\u001b[1;33m[\u001b[0m\u001b[1;33m:\u001b[0m\u001b[1;33m,\u001b[0m\u001b[1;33m:\u001b[0m\u001b[1;36m5\u001b[0m\u001b[1;33m]\u001b[0m\u001b[1;33m\u001b[0m\u001b[1;33m\u001b[0m\u001b[0m\n\u001b[1;32m---> 11\u001b[1;33m         \u001b[0mY_test\u001b[0m \u001b[1;33m=\u001b[0m \u001b[0mdata\u001b[0m\u001b[1;33m[\u001b[0m\u001b[1;33m:\u001b[0m\u001b[1;33m,\u001b[0m\u001b[1;36m5\u001b[0m\u001b[1;33m]\u001b[0m\u001b[1;33m\u001b[0m\u001b[1;33m\u001b[0m\u001b[0m\n\u001b[0m\u001b[0;32m     12\u001b[0m         \u001b[1;31m#train and test nueral network for this segment\u001b[0m\u001b[1;33m\u001b[0m\u001b[1;33m\u001b[0m\u001b[1;33m\u001b[0m\u001b[0m\n\u001b[0;32m     13\u001b[0m         \u001b[0merror\u001b[0m \u001b[1;33m=\u001b[0m \u001b[0mNeuralNetwork\u001b[0m\u001b[1;33m(\u001b[0m\u001b[0mX_train\u001b[0m\u001b[1;33m,\u001b[0m\u001b[0mY_train\u001b[0m\u001b[1;33m,\u001b[0m\u001b[0mX_test\u001b[0m\u001b[1;33m,\u001b[0m\u001b[0mY_test\u001b[0m\u001b[1;33m)\u001b[0m\u001b[1;33m\u001b[0m\u001b[1;33m\u001b[0m\u001b[0m\n",
      "\u001b[1;31mIndexError\u001b[0m: index 5 is out of bounds for axis 1 with size 5"
     ]
    }
   ],
   "source": [
    "def main():\n",
    "    errorLlist = []\n",
    "    for i in range(0,4):\n",
    "        data = np.genfromtxt(\"Train_TEC_mar17.csv\",delimiter=',',skip_header=0,dtype=float)\n",
    "#         data = np.genfromtxt(dataPath+\"inputnn\" + str(i+1) + \".csv\",delimiter=',',skip_header=0,dtype=float)\n",
    "        X_train = data[:,:4]\n",
    "        Y_train = data[:,4]\n",
    "        data = np.genfromtxt(\"Test_TEC_mar17.csv\",delimiter=',',skip_header=0,dtype=float)\n",
    "#         data = np.genfromtxt(dataPath+\"inputnn\" + str(i+1) + \"_test.csv\",delimiter=',',skip_header=0,dtype=float)\n",
    "        X_test = data[:,:4]\n",
    "        Y_test = data[:,4]\n",
    "        #train and test nueral network for this segment\n",
    "        error = NeuralNetwork(X_train,Y_train,X_test,Y_test)\n",
    "        errorList.append(error)\n",
    "        print(X_train)\n",
    "\n",
    "if __name__ == \"__main__\":\n",
    "    main()"
   ]
  }
 ],
 "metadata": {
  "kernelspec": {
   "display_name": "Python 3.7.6 64-bit",
   "language": "python",
   "name": "python37664bitb78c490a6d4f4e5f83441c422e821dd5"
  },
  "language_info": {
   "codemirror_mode": {
    "name": "ipython",
    "version": 3
   },
   "file_extension": ".py",
   "mimetype": "text/x-python",
   "name": "python",
   "nbconvert_exporter": "python",
   "pygments_lexer": "ipython3",
   "version": "3.7.6"
  }
 },
 "nbformat": 4,
 "nbformat_minor": 4
}
