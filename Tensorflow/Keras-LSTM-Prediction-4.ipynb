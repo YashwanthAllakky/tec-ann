{
 "cells": [
  {
   "cell_type": "code",
   "execution_count": 19,
   "metadata": {
    "colab": {},
    "colab_type": "code",
    "id": "lkbISZoNSYQx"
   },
   "outputs": [],
   "source": [
    "import pandas as pd\n",
    "import numpy as np\n",
    "%matplotlib inline\n",
    "import matplotlib.pyplot as plt\n",
    "\n",
    "from sklearn.preprocessing import MinMaxScaler\n",
    "from sklearn.metrics import r2_score\n",
    "\n",
    "def adj_r2_score(r2, n, k):\n",
    "    return 1-((1-r2)*((n-1)/(n-k-1)))"
   ]
  },
  {
   "cell_type": "code",
   "execution_count": 20,
   "metadata": {
    "colab": {},
    "colab_type": "code",
    "id": "4KlaiwrmS0rl"
   },
   "outputs": [],
   "source": [
    "data_frame = pd.read_csv(\"Train_TEC_mar17.csv\")"
   ]
  },
  {
   "cell_type": "code",
   "execution_count": 21,
   "metadata": {
    "colab": {
     "base_uri": "https://localhost:8080/",
     "height": 204
    },
    "colab_type": "code",
    "id": "pwWopWUCUeX3",
    "outputId": "e6e39735-fa16-4376-b102-8679a53c7f2b"
   },
   "outputs": [
    {
     "data": {
      "text/html": [
       "<div>\n",
       "<style scoped>\n",
       "    .dataframe tbody tr th:only-of-type {\n",
       "        vertical-align: middle;\n",
       "    }\n",
       "\n",
       "    .dataframe tbody tr th {\n",
       "        vertical-align: top;\n",
       "    }\n",
       "\n",
       "    .dataframe thead th {\n",
       "        text-align: right;\n",
       "    }\n",
       "</style>\n",
       "<table border=\"1\" class=\"dataframe\">\n",
       "  <thead>\n",
       "    <tr style=\"text-align: right;\">\n",
       "      <th></th>\n",
       "      <th>Date</th>\n",
       "      <th>Month</th>\n",
       "      <th>Year</th>\n",
       "      <th>Time</th>\n",
       "      <th>LT</th>\n",
       "      <th>TEC</th>\n",
       "    </tr>\n",
       "  </thead>\n",
       "  <tbody>\n",
       "    <tr>\n",
       "      <th>0</th>\n",
       "      <td>1</td>\n",
       "      <td>3</td>\n",
       "      <td>2017</td>\n",
       "      <td>0.016389</td>\n",
       "      <td>5.311333</td>\n",
       "      <td>2.067562</td>\n",
       "    </tr>\n",
       "    <tr>\n",
       "      <th>1</th>\n",
       "      <td>1</td>\n",
       "      <td>3</td>\n",
       "      <td>2017</td>\n",
       "      <td>0.049722</td>\n",
       "      <td>5.344670</td>\n",
       "      <td>2.082707</td>\n",
       "    </tr>\n",
       "    <tr>\n",
       "      <th>2</th>\n",
       "      <td>1</td>\n",
       "      <td>3</td>\n",
       "      <td>2017</td>\n",
       "      <td>0.083056</td>\n",
       "      <td>5.378006</td>\n",
       "      <td>2.004272</td>\n",
       "    </tr>\n",
       "    <tr>\n",
       "      <th>3</th>\n",
       "      <td>1</td>\n",
       "      <td>3</td>\n",
       "      <td>2017</td>\n",
       "      <td>0.116389</td>\n",
       "      <td>5.411343</td>\n",
       "      <td>1.736569</td>\n",
       "    </tr>\n",
       "    <tr>\n",
       "      <th>4</th>\n",
       "      <td>1</td>\n",
       "      <td>3</td>\n",
       "      <td>2017</td>\n",
       "      <td>0.149722</td>\n",
       "      <td>5.444679</td>\n",
       "      <td>1.758503</td>\n",
       "    </tr>\n",
       "  </tbody>\n",
       "</table>\n",
       "</div>"
      ],
      "text/plain": [
       "   Date  Month  Year      Time        LT       TEC\n",
       "0     1      3  2017  0.016389  5.311333  2.067562\n",
       "1     1      3  2017  0.049722  5.344670  2.082707\n",
       "2     1      3  2017  0.083056  5.378006  2.004272\n",
       "3     1      3  2017  0.116389  5.411343  1.736569\n",
       "4     1      3  2017  0.149722  5.444679  1.758503"
      ]
     },
     "execution_count": 21,
     "metadata": {},
     "output_type": "execute_result"
    }
   ],
   "source": [
    "data_frame.head()"
   ]
  },
  {
   "cell_type": "code",
   "execution_count": 22,
   "metadata": {
    "colab": {},
    "colab_type": "code",
    "id": "Z8cvp5F5Ufvo"
   },
   "outputs": [],
   "source": [
    "data_frame.drop([\"Date\", \"Month\", \"Year\", \"Time\"], axis = 1, inplace = True)"
   ]
  },
  {
   "cell_type": "code",
   "execution_count": 23,
   "metadata": {
    "colab": {
     "base_uri": "https://localhost:8080/",
     "height": 204
    },
    "colab_type": "code",
    "id": "jggkjg6LUnnJ",
    "outputId": "9a11ed09-a9c0-4204-8b2e-911ce8c821ba"
   },
   "outputs": [
    {
     "data": {
      "text/html": [
       "<div>\n",
       "<style scoped>\n",
       "    .dataframe tbody tr th:only-of-type {\n",
       "        vertical-align: middle;\n",
       "    }\n",
       "\n",
       "    .dataframe tbody tr th {\n",
       "        vertical-align: top;\n",
       "    }\n",
       "\n",
       "    .dataframe thead th {\n",
       "        text-align: right;\n",
       "    }\n",
       "</style>\n",
       "<table border=\"1\" class=\"dataframe\">\n",
       "  <thead>\n",
       "    <tr style=\"text-align: right;\">\n",
       "      <th></th>\n",
       "      <th>LT</th>\n",
       "      <th>TEC</th>\n",
       "    </tr>\n",
       "  </thead>\n",
       "  <tbody>\n",
       "    <tr>\n",
       "      <th>0</th>\n",
       "      <td>5.311333</td>\n",
       "      <td>2.067562</td>\n",
       "    </tr>\n",
       "    <tr>\n",
       "      <th>1</th>\n",
       "      <td>5.344670</td>\n",
       "      <td>2.082707</td>\n",
       "    </tr>\n",
       "    <tr>\n",
       "      <th>2</th>\n",
       "      <td>5.378006</td>\n",
       "      <td>2.004272</td>\n",
       "    </tr>\n",
       "    <tr>\n",
       "      <th>3</th>\n",
       "      <td>5.411343</td>\n",
       "      <td>1.736569</td>\n",
       "    </tr>\n",
       "    <tr>\n",
       "      <th>4</th>\n",
       "      <td>5.444679</td>\n",
       "      <td>1.758503</td>\n",
       "    </tr>\n",
       "  </tbody>\n",
       "</table>\n",
       "</div>"
      ],
      "text/plain": [
       "         LT       TEC\n",
       "0  5.311333  2.067562\n",
       "1  5.344670  2.082707\n",
       "2  5.378006  2.004272\n",
       "3  5.411343  1.736569\n",
       "4  5.444679  1.758503"
      ]
     },
     "execution_count": 23,
     "metadata": {},
     "output_type": "execute_result"
    }
   ],
   "source": [
    "data_frame.head()"
   ]
  },
  {
   "cell_type": "code",
   "execution_count": 24,
   "metadata": {
    "colab": {},
    "colab_type": "code",
    "id": "a3J4XjAaUrNw"
   },
   "outputs": [],
   "source": [
    "df = pd.DataFrame(data_frame[\"TEC\"])"
   ]
  },
  {
   "cell_type": "code",
   "execution_count": 25,
   "metadata": {
    "colab": {
     "base_uri": "https://localhost:8080/",
     "height": 204
    },
    "colab_type": "code",
    "id": "sMNXRPRgU3eA",
    "outputId": "a01048e1-2151-4f6d-981d-3bf6002c4618"
   },
   "outputs": [
    {
     "data": {
      "text/html": [
       "<div>\n",
       "<style scoped>\n",
       "    .dataframe tbody tr th:only-of-type {\n",
       "        vertical-align: middle;\n",
       "    }\n",
       "\n",
       "    .dataframe tbody tr th {\n",
       "        vertical-align: top;\n",
       "    }\n",
       "\n",
       "    .dataframe thead th {\n",
       "        text-align: right;\n",
       "    }\n",
       "</style>\n",
       "<table border=\"1\" class=\"dataframe\">\n",
       "  <thead>\n",
       "    <tr style=\"text-align: right;\">\n",
       "      <th></th>\n",
       "      <th>TEC</th>\n",
       "    </tr>\n",
       "  </thead>\n",
       "  <tbody>\n",
       "    <tr>\n",
       "      <th>0</th>\n",
       "      <td>2.067562</td>\n",
       "    </tr>\n",
       "    <tr>\n",
       "      <th>1</th>\n",
       "      <td>2.082707</td>\n",
       "    </tr>\n",
       "    <tr>\n",
       "      <th>2</th>\n",
       "      <td>2.004272</td>\n",
       "    </tr>\n",
       "    <tr>\n",
       "      <th>3</th>\n",
       "      <td>1.736569</td>\n",
       "    </tr>\n",
       "    <tr>\n",
       "      <th>4</th>\n",
       "      <td>1.758503</td>\n",
       "    </tr>\n",
       "  </tbody>\n",
       "</table>\n",
       "</div>"
      ],
      "text/plain": [
       "        TEC\n",
       "0  2.067562\n",
       "1  2.082707\n",
       "2  2.004272\n",
       "3  1.736569\n",
       "4  1.758503"
      ]
     },
     "execution_count": 25,
     "metadata": {},
     "output_type": "execute_result"
    }
   ],
   "source": [
    "df.head()"
   ]
  },
  {
   "cell_type": "code",
   "execution_count": 26,
   "metadata": {
    "colab": {
     "base_uri": "https://localhost:8080/",
     "height": 282
    },
    "colab_type": "code",
    "id": "sW2WeiVPU4Ud",
    "outputId": "9eb7520c-bc98-47b4-a2e6-045b59aea98d"
   },
   "outputs": [
    {
     "data": {
      "text/plain": [
       "<matplotlib.axes._subplots.AxesSubplot at 0x17ca8ce5bc8>"
      ]
     },
     "execution_count": 26,
     "metadata": {},
     "output_type": "execute_result"
    },
    {
     "data": {
      "image/png": "[encoded data removed]",
      "text/plain": [
       "<Figure size 432x288 with 1 Axes>"
      ]
     },
     "metadata": {
      "needs_background": "light"
     },
     "output_type": "display_data"
    }
   ],
   "source": [
    "df.plot()"
   ]
  },
  {
   "cell_type": "code",
   "execution_count": 27,
   "metadata": {
    "colab": {
     "base_uri": "https://localhost:8080/",
     "height": 34
    },
    "colab_type": "code",
    "id": "lxxClK3gU6yc",
    "outputId": "f42d65ef-3654-4950-90c9-e5bd92fff2a0"
   },
   "outputs": [
    {
     "data": {
      "text/plain": [
       "((12960, 1), (1440, 1))"
      ]
     },
     "execution_count": 27,
     "metadata": {},
     "output_type": "execute_result"
    }
   ],
   "source": [
    "train = df[:-1440]\n",
    "test = df[-1440:]\n",
    "train.shape, test.shape"
   ]
  },
  {
   "cell_type": "code",
   "execution_count": 28,
   "metadata": {
    "colab": {
     "base_uri": "https://localhost:8080/",
     "height": 282
    },
    "colab_type": "code",
    "id": "FKUBcHgPVCTC",
    "outputId": "d8533aba-00e5-435f-deef-12e0dc36ecc9"
   },
   "outputs": [
    {
     "data": {
      "text/plain": [
       "<matplotlib.legend.Legend at 0x17ca2a611c8>"
      ]
     },
     "execution_count": 28,
     "metadata": {},
     "output_type": "execute_result"
    },
    {
     "data": {
      "image/png": "[encoded data removed]",
      "text/plain": [
       "<Figure size 432x288 with 1 Axes>"
      ]
     },
     "metadata": {
      "needs_background": "light"
     },
     "output_type": "display_data"
    }
   ],
   "source": [
    "ax = train.plot()\n",
    "test.plot(ax=ax)\n",
    "plt.legend(['train', 'test'])"
   ]
  },
  {
   "cell_type": "code",
   "execution_count": 29,
   "metadata": {
    "colab": {},
    "colab_type": "code",
    "id": "tqxgvFoTVHxs"
   },
   "outputs": [],
   "source": [
    "sc = MinMaxScaler()\n",
    "train_sc = sc.fit_transform(train)\n",
    "test_sc = sc.transform(test)"
   ]
  },
  {
   "cell_type": "code",
   "execution_count": 30,
   "metadata": {
    "colab": {
     "base_uri": "https://localhost:8080/",
     "height": 136
    },
    "colab_type": "code",
    "id": "A6Yg9Sr9VMFr",
    "outputId": "c0d98900-2655-4bfc-99e8-168a78c61ca4"
   },
   "outputs": [
    {
     "data": {
      "text/plain": [
       "array([[0.04266831],\n",
       "       [0.04303103],\n",
       "       [0.04115251],\n",
       "       ...,\n",
       "       [0.02035242],\n",
       "       [0.01636847],\n",
       "       [0.02202376]])"
      ]
     },
     "execution_count": 30,
     "metadata": {},
     "output_type": "execute_result"
    }
   ],
   "source": [
    "train_sc"
   ]
  },
  {
   "cell_type": "code",
   "execution_count": 31,
   "metadata": {
    "colab": {
     "base_uri": "https://localhost:8080/",
     "height": 136
    },
    "colab_type": "code",
    "id": "1m7g8L0CWilQ",
    "outputId": "00f0175e-f313-4665-85cc-361473cb1631"
   },
   "outputs": [
    {
     "data": {
      "text/plain": [
       "array([[0.04565388],\n",
       "       [0.04605349],\n",
       "       [0.05475397],\n",
       "       ...,\n",
       "       [0.02464814],\n",
       "       [0.02412893],\n",
       "       [0.03227832]])"
      ]
     },
     "execution_count": 31,
     "metadata": {},
     "output_type": "execute_result"
    }
   ],
   "source": [
    "test_sc"
   ]
  },
  {
   "cell_type": "code",
   "execution_count": 32,
   "metadata": {
    "colab": {},
    "colab_type": "code",
    "id": "i7spYdm2WnLG"
   },
   "outputs": [],
   "source": [
    "X_train = train_sc[:-1]\n",
    "y_train = train_sc[1:]\n",
    "\n",
    "X_test = test_sc[:-1]\n",
    "y_test = test_sc[1:]"
   ]
  },
  {
   "cell_type": "code",
   "execution_count": 33,
   "metadata": {
    "colab": {},
    "colab_type": "code",
    "id": "nF9Hbh2XWq1d"
   },
   "outputs": [],
   "source": [
    "X_tr_t = X_train.reshape(X_train.shape[0], 1, X_train.shape[1])\n",
    "X_tst_t = X_test.reshape(X_test.shape[0], 1, X_test.shape[1])\n"
   ]
  },
  {
   "cell_type": "code",
   "execution_count": 34,
   "metadata": {
    "colab": {
     "base_uri": "https://localhost:8080/",
     "height": 80
    },
    "colab_type": "code",
    "id": "59iSydwhXB6O",
    "outputId": "8dd0fda6-6783-412f-bd77-bc9d31850a56"
   },
   "outputs": [],
   "source": [
    "from keras.models import Sequential\n",
    "from keras.layers import Dense\n",
    "import keras.backend as K\n",
    "from keras.callbacks import EarlyStopping\n",
    "from keras.optimizers import Adam\n",
    "from keras.models import load_model"
   ]
  },
  {
   "cell_type": "code",
   "execution_count": 50,
   "metadata": {
    "colab": {
     "base_uri": "https://localhost:8080/",
     "height": 1000
    },
    "colab_type": "code",
    "id": "T7hUaUNIW5iI",
    "outputId": "7c0cac24-6527-4326-9c50-c866bda828ef"
   },
   "outputs": [
    {
     "name": "stdout",
     "output_type": "stream",
     "text": [
      "Epoch 1/100\n",
      "12959/12959 [==============================] - 13s 985us/step - loss: 0.00190s -\n",
      "Epoch 2/100\n",
      "  195/12959 [..............................] - ETA: 13s - loss: 7.8737e-04"
     ]
    },
    {
     "name": "stderr",
     "output_type": "stream",
     "text": [
      "C:\\Users\\yash\\Miniconda3\\envs\\TEC\\lib\\site-packages\\keras\\callbacks\\callbacks.py:846: RuntimeWarning: Early stopping conditioned on metric `val_loss` which is not available. Available metrics are: loss\n",
      "  (self.monitor, ','.join(list(logs.keys()))), RuntimeWarning\n"
     ]
    },
    {
     "name": "stdout",
     "output_type": "stream",
     "text": [
      "12959/12959 [==============================] - 14s 1ms/step - loss: 2.9124e-04\n",
      "Epoch 3/100\n",
      "12959/12959 [==============================] - 14s 1ms/step - loss: 2.9106e-04\n",
      "Epoch 4/100\n",
      "12959/12959 [==============================] - 13s 1ms/step - loss: 2.8340e-04\n",
      "Epoch 5/100\n",
      "12959/12959 [==============================] - 13s 1ms/step - loss: 2.6678e-04\n",
      "Epoch 6/100\n",
      "12959/12959 [==============================] - 14s 1ms/step - loss: 2.4937e-04\n",
      "Epoch 7/100\n",
      "12959/12959 [==============================] - 15s 1ms/step - loss: 2.3820e-04\n",
      "Epoch 8/100\n",
      "12959/12959 [==============================] - 14s 1ms/step - loss: 2.3155e-04\n",
      "Epoch 9/100\n",
      "12959/12959 [==============================] - 14s 1ms/step - loss: 2.2718e-04\n",
      "Epoch 10/100\n",
      "12959/12959 [==============================] - 14s 1ms/step - loss: 2.2401e-04\n",
      "Epoch 11/100\n",
      "12959/12959 [==============================] - 14s 1ms/step - loss: 2.2154e-04\n",
      "Epoch 12/100\n",
      "12959/12959 [==============================] - 14s 1ms/step - loss: 2.1929e-04\n",
      "Epoch 13/100\n",
      "12959/12959 [==============================] - 14s 1ms/step - loss: 2.1669e-04\n",
      "Epoch 14/100\n",
      "12959/12959 [==============================] - 13s 1ms/step - loss: 2.1341e-04: 0s - loss: 2.\n",
      "Epoch 15/100\n",
      "12959/12959 [==============================] - 14s 1ms/step - loss: 2.0942e-04\n",
      "Epoch 16/100\n",
      "12959/12959 [==============================] - 14s 1ms/step - loss: 2.0486e-04: 0s - loss\n",
      "Epoch 17/100\n",
      "12959/12959 [==============================] - 14s 1ms/step - loss: 1.9987e-04\n",
      "Epoch 18/100\n",
      "12959/12959 [==============================] - 14s 1ms/step - loss: 1.9448e-04\n",
      "Epoch 19/100\n",
      "12959/12959 [==============================] - 14s 1ms/step - loss: 1.8878e-04\n",
      "Epoch 20/100\n",
      "12959/12959 [==============================] - 14s 1ms/step - loss: 1.8313e-04\n",
      "Epoch 21/100\n",
      "12959/12959 [==============================] - 14s 1ms/step - loss: 1.7795e-04\n",
      "Epoch 22/100\n",
      "12959/12959 [==============================] - 14s 1ms/step - loss: 1.7326e-04\n",
      "Epoch 23/100\n",
      "12959/12959 [==============================] - 14s 1ms/step - loss: 1.7007e-04\n",
      "Epoch 24/100\n",
      "12959/12959 [==============================] - 14s 1ms/step - loss: 1.6787e-04\n",
      "Epoch 25/100\n",
      "12959/12959 [==============================] - 14s 1ms/step - loss: 1.6613e-04\n",
      "Epoch 26/100\n",
      "12959/12959 [==============================] - 14s 1ms/step - loss: 1.6468e-04\n",
      "Epoch 27/100\n",
      "12959/12959 [==============================] - 14s 1ms/step - loss: 1.6342e-04\n",
      "Epoch 28/100\n",
      "12959/12959 [==============================] - 14s 1ms/step - loss: 1.6231e-04\n",
      "Epoch 29/100\n",
      "12959/12959 [==============================] - 14s 1ms/step - loss: 1.6129e-04\n",
      "Epoch 30/100\n",
      "12959/12959 [==============================] - 14s 1ms/step - loss: 1.6034e-04\n",
      "Epoch 31/100\n",
      "12959/12959 [==============================] - 14s 1ms/step - loss: 1.5942e-04\n",
      "Epoch 32/100\n",
      "12959/12959 [==============================] - 14s 1ms/step - loss: 1.5850e-04\n",
      "Epoch 33/100\n",
      "12959/12959 [==============================] - 14s 1ms/step - loss: 1.5757e-04: 0s - loss: 1.567\n",
      "Epoch 34/100\n",
      "12959/12959 [==============================] - 14s 1ms/step - loss: 1.5660e-04\n",
      "Epoch 35/100\n",
      "12959/12959 [==============================] - 14s 1ms/step - loss: 1.5558e-04\n",
      "Epoch 36/100\n",
      "12959/12959 [==============================] - 14s 1ms/step - loss: 1.5449e-04\n",
      "Epoch 37/100\n",
      "12959/12959 [==============================] - 14s 1ms/step - loss: 1.5332e-04: 1s - - ETA: \n",
      "Epoch 38/100\n",
      "12959/12959 [==============================] - 14s 1ms/step - loss: 1.5205e-04\n",
      "Epoch 39/100\n",
      "12959/12959 [==============================] - 14s 1ms/step - loss: 1.5068e-04\n",
      "Epoch 40/100\n",
      "12959/12959 [==============================] - 14s 1ms/step - loss: 1.4919e-04\n",
      "Epoch 41/100\n",
      "12959/12959 [==============================] - 14s 1ms/step - loss: 1.4761e-04\n",
      "Epoch 42/100\n",
      "12959/12959 [==============================] - 14s 1ms/step - loss: 1.4592e-04\n",
      "Epoch 43/100\n",
      "12959/12959 [==============================] - 14s 1ms/step - loss: 1.4415e-04\n",
      "Epoch 44/100\n",
      "12959/12959 [==============================] - 14s 1ms/step - loss: 1.4232e-04\n",
      "Epoch 45/100\n",
      "12959/12959 [==============================] - 14s 1ms/step - loss: 1.4046e-04\n",
      "Epoch 46/100\n",
      "12959/12959 [==============================] - 14s 1ms/step - loss: 1.3858e-04\n",
      "Epoch 47/100\n",
      "12959/12959 [==============================] - 14s 1ms/step - loss: 1.3672e-04: 0s -\n",
      "Epoch 48/100\n",
      "12959/12959 [==============================] - 14s 1ms/step - loss: 1.3492e-04\n",
      "Epoch 49/100\n",
      "12959/12959 [==============================] - 14s 1ms/step - loss: 1.3319e-04: 0s - loss: 1\n",
      "Epoch 50/100\n",
      "12959/12959 [==============================] - 14s 1ms/step - loss: 1.3157e-04\n",
      "Epoch 51/100\n",
      "12959/12959 [==============================] - 14s 1ms/step - loss: 1.3010e-04\n",
      "Epoch 52/100\n",
      "12959/12959 [==============================] - 14s 1ms/step - loss: 1.2878e-04\n",
      "Epoch 53/100\n",
      "12959/12959 [==============================] - 14s 1ms/step - loss: 1.2766e-04\n",
      "Epoch 54/100\n",
      "12959/12959 [==============================] - 14s 1ms/step - loss: 1.2673e-04\n",
      "Epoch 55/100\n",
      "12959/12959 [==============================] - 14s 1ms/step - loss: 1.2589e-04: 0\n",
      "Epoch 56/100\n",
      "12959/12959 [==============================] - 14s 1ms/step - loss: 1.2519e-04\n",
      "Epoch 57/100\n",
      "12959/12959 [==============================] - ETA: 0s - loss: 1.2477e-0 - 14s 1ms/step - loss: 1.2457e-04\n",
      "Epoch 58/100\n",
      "12959/12959 [==============================] - 14s 1ms/step - loss: 1.2394e-04\n",
      "Epoch 59/100\n",
      "12959/12959 [==============================] - 14s 1ms/step - loss: 1.2325e-04\n",
      "Epoch 60/100\n",
      "12959/12959 [==============================] - 14s 1ms/step - loss: 1.2247e-04\n",
      "Epoch 61/100\n",
      "12959/12959 [==============================] - 14s 1ms/step - loss: 1.2158e-04\n",
      "Epoch 62/100\n",
      "12959/12959 [==============================] - 14s 1ms/step - loss: 1.2058e-04: 0s - loss: 1.1\n",
      "Epoch 63/100\n",
      "12959/12959 [==============================] - 14s 1ms/step - loss: 1.1949e-04: 0s - los\n",
      "Epoch 64/100\n",
      "12959/12959 [==============================] - 14s 1ms/step - loss: 1.1834e-04\n",
      "Epoch 65/100\n",
      "12959/12959 [==============================] - 14s 1ms/step - loss: 1.1717e-04\n",
      "Epoch 66/100\n",
      "12959/12959 [==============================] - 14s 1ms/step - loss: 1.1601e-04\n",
      "Epoch 67/100\n",
      "12959/12959 [==============================] - 14s 1ms/step - loss: 1.1492e-04\n",
      "Epoch 68/100\n",
      "12959/12959 [==============================] - 14s 1ms/step - loss: 1.1391e-04\n",
      "Epoch 69/100\n",
      "12959/12959 [==============================] - 14s 1ms/step - loss: 1.1299e-04: 0s - loss: 1.1360e\n",
      "Epoch 70/100\n",
      "12959/12959 [==============================] - 14s 1ms/step - loss: 1.1217e-04\n",
      "Epoch 71/100\n",
      "12959/12959 [==============================] - 14s 1ms/step - loss: 1.1145e-04\n",
      "Epoch 72/100\n",
      "12959/12959 [==============================] - 14s 1ms/step - loss: 1.1082e-04\n",
      "Epoch 73/100\n",
      "12959/12959 [==============================] - 14s 1ms/step - loss: 1.1027e-04\n",
      "Epoch 74/100\n",
      "12959/12959 [==============================] - 14s 1ms/step - loss: 1.0979e-04\n",
      "Epoch 75/100\n",
      "12959/12959 [==============================] - 14s 1ms/step - loss: 1.0937e-04\n",
      "Epoch 76/100\n",
      "12959/12959 [==============================] - 14s 1ms/step - loss: 1.0901e-04\n",
      "Epoch 77/100\n",
      "12959/12959 [==============================] - 14s 1ms/step - loss: 1.0869e-04\n",
      "Epoch 78/100\n",
      "12959/12959 [==============================] - 14s 1ms/step - loss: 1.0841e-04\n",
      "Epoch 79/100\n",
      "12959/12959 [==============================] - 14s 1ms/step - loss: 1.0815e-04\n",
      "Epoch 80/100\n",
      "12959/12959 [==============================] - 14s 1ms/step - loss: 1.0791e-04\n",
      "Epoch 81/100\n",
      "12959/12959 [==============================] - 14s 1ms/step - loss: 1.0768e-04\n",
      "Epoch 82/100\n",
      "12959/12959 [==============================] - 14s 1ms/step - loss: 1.0747e-04\n",
      "Epoch 83/100\n",
      "12959/12959 [==============================] - 13s 1ms/step - loss: 1.0727e-04: 0s - loss: 1.0734e-0\n",
      "Epoch 84/100\n",
      "12959/12959 [==============================] - 14s 1ms/step - loss: 1.0706e-04: 1s - loss: 1\n",
      "Epoch 85/100\n",
      "12959/12959 [==============================] - 13s 1ms/step - loss: 1.0687e-04: 1s - loss: 1 - ETA: 0s - lo\n",
      "Epoch 86/100\n",
      "12959/12959 [==============================] - 14s 1ms/step - loss: 1.0667e-04\n",
      "Epoch 87/100\n",
      "12959/12959 [==============================] - 14s 1ms/step - loss: 1.0647e-04\n",
      "Epoch 88/100\n"
     ]
    },
    {
     "name": "stdout",
     "output_type": "stream",
     "text": [
      "12959/12959 [==============================] - 14s 1ms/step - loss: 1.0627e-04\n",
      "Epoch 89/100\n",
      "12959/12959 [==============================] - 14s 1ms/step - loss: 1.0606e-04\n",
      "Epoch 90/100\n",
      "12959/12959 [==============================] - 14s 1ms/step - loss: 1.0585e-04\n",
      "Epoch 91/100\n",
      "12959/12959 [==============================] - 14s 1ms/step - loss: 1.0564e-04: 0s\n",
      "Epoch 92/100\n",
      "12959/12959 [==============================] - 14s 1ms/step - loss: 1.0543e-04\n",
      "Epoch 93/100\n",
      "12959/12959 [==============================] - 14s 1ms/step - loss: 1.0522e-04\n",
      "Epoch 94/100\n",
      "12959/12959 [==============================] - 14s 1ms/step - loss: 1.0500e-04\n",
      "Epoch 95/100\n",
      "12959/12959 [==============================] - ETA: 0s - loss: 1.0485e-04- ETA: 2s - loss: 1.095 - ETA: 0s - l - 14s 1ms/step - loss: 1.0478e-04\n",
      "Epoch 96/100\n",
      "12959/12959 [==============================] - 14s 1ms/step - loss: 1.0455e-04\n",
      "Epoch 97/100\n",
      "12959/12959 [==============================] - 14s 1ms/step - loss: 1.0432e-04\n",
      "Epoch 98/100\n",
      "12959/12959 [==============================] - 14s 1ms/step - loss: 1.0410e-04\n",
      "Epoch 99/100\n",
      "12959/12959 [==============================] - 14s 1ms/step - loss: 1.0387e-04: 0s -  - ETA: 0s - loss: 1.0444\n",
      "Epoch 100/100\n",
      "12959/12959 [==============================] - 14s 1ms/step - loss: 1.0363e-04\n",
      "The R2 score on the Train set is:\t0.723\n",
      "The Adjusted R2 score on the Train set is:\t0.723\n",
      "\n",
      "The R2 score on the Test set is:\t0.742\n",
      "The Adjusted R2 score on the Test set is:\t0.742\n"
     ]
    }
   ],
   "source": [
    "from keras.layers import LSTM\n",
    "K.clear_session()\n",
    "model_lstm = Sequential()\n",
    "model_lstm.add(LSTM(7, input_shape=(1, X_train.shape[1]), activation='sigmoid', kernel_initializer='lecun_uniform', return_sequences=False))\n",
    "model_lstm.add(Dense(1))\n",
    "model_lstm.compile(loss='mean_squared_error', optimizer='adam')\n",
    "early_stop = EarlyStopping(monitor='val_loss', patience=5, verbose=1)\n",
    "history_model_lstm = model_lstm.fit(X_tr_t, y_train, epochs=100, batch_size=1, verbose=1, shuffle=False, callbacks=[early_stop])\n",
    "\n",
    "y_pred_test_lstm = model_lstm.predict(X_tst_t)\n",
    "y_train_pred_lstm = model_lstm.predict(X_tr_t)\n",
    "print(\"The R2 score on the Train set is:\\t{:0.3f}\".format(r2_score(y_train, y_train_pred_lstm)))\n",
    "r2_train = r2_score(y_train, y_train_pred_lstm)\n",
    "print(\"The Adjusted R2 score on the Train set is:\\t{:0.3f}\\n\".format(adj_r2_score(r2_train, X_train.shape[0], X_train.shape[1])))\n",
    "print(\"The R2 score on the Test set is:\\t{:0.3f}\".format(r2_score(y_test, y_pred_test_lstm)))\n",
    "r2_test = r2_score(y_test, y_pred_test_lstm)\n",
    "print(\"The Adjusted R2 score on the Test set is:\\t{:0.3f}\".format(adj_r2_score(r2_test, X_test.shape[0], X_test.shape[1])))"
   ]
  },
  {
   "cell_type": "code",
   "execution_count": 66,
   "metadata": {
    "colab": {},
    "colab_type": "code",
    "id": "PepDkvQsW-K4"
   },
   "outputs": [],
   "source": [
    "model_lstm.save('LSTM_NonShift.h5')\n",
    "model_lstm = load_model('LSTM_NonShift.h5')"
   ]
  },
  {
   "cell_type": "code",
   "execution_count": 67,
   "metadata": {
    "colab": {
     "base_uri": "https://localhost:8080/",
     "height": 34
    },
    "colab_type": "code",
    "id": "uhMttnzYYxtF",
    "outputId": "1d404ece-dfb9-4913-cb45-c8b86d7280c1"
   },
   "outputs": [
    {
     "name": "stdout",
     "output_type": "stream",
     "text": [
      "1439/1439 [==============================] - 1s 382us/step\n"
     ]
    }
   ],
   "source": [
    "score_lstm= model_lstm.evaluate(X_tst_t, y_test, batch_size=1)"
   ]
  },
  {
   "cell_type": "code",
   "execution_count": 69,
   "metadata": {
    "colab": {
     "base_uri": "https://localhost:8080/",
     "height": 34
    },
    "colab_type": "code",
    "id": "bFMFomVZY7ea",
    "outputId": "54ece490-62a6-42cc-83a9-734df1794c77"
   },
   "outputs": [
    {
     "name": "stdout",
     "output_type": "stream",
     "text": [
      "LSTM: 0.013865\n"
     ]
    }
   ],
   "source": [
    "print('LSTM: %f'%score_lstm)"
   ]
  },
  {
   "cell_type": "code",
   "execution_count": 70,
   "metadata": {
    "colab": {},
    "colab_type": "code",
    "id": "jkPmZ7jKY_Rj"
   },
   "outputs": [],
   "source": [
    "y_pred_test_LSTM = model_lstm.predict(X_tst_t)"
   ]
  },
  {
   "cell_type": "code",
   "execution_count": 75,
   "metadata": {
    "colab": {
     "base_uri": "https://localhost:8080/",
     "height": 295
    },
    "colab_type": "code",
    "id": "8nQ7Aql0ZBpZ",
    "outputId": "c5df9899-cc81-4433-c42a-8444d008e927"
   },
   "outputs": [
    {
     "data": {
      "image/png": "[encoded data removed]",
      "text/plain": [
       "<Figure size 432x288 with 1 Axes>"
      ]
     },
     "metadata": {
      "needs_background": "light"
     },
     "output_type": "display_data"
    }
   ],
   "source": [
    "plt.plot(y_test, label='True')\n",
    "plt.plot(y_pred_test_LSTM, label='LSTM')\n",
    "plt.title(\"LSTM's_Prediction\")\n",
    "plt.xlabel('Observation')\n",
    "plt.ylabel('TEC_Scaled')\n",
    "plt.legend()\n",
    "plt.show()"
   ]
  },
  {
   "cell_type": "code",
   "execution_count": 65,
   "metadata": {
    "colab": {
     "base_uri": "https://localhost:8080/",
     "height": 34
    },
    "colab_type": "code",
    "id": "RdNf2GS2ZREY",
    "outputId": "7959109e-1d7d-4371-9783-86da83345248"
   },
   "outputs": [
    {
     "data": {
      "text/plain": [
       "0.11774952722147149"
      ]
     },
     "execution_count": 65,
     "metadata": {},
     "output_type": "execute_result"
    }
   ],
   "source": [
    "from sklearn.metrics import mean_squared_error\n",
    "from math import sqrt\n",
    "\n",
    "rms = sqrt(mean_squared_error(y_test, y_pred_test_LSTM))\n",
    "\n",
    "rms"
   ]
  },
  {
   "cell_type": "code",
   "execution_count": null,
   "metadata": {},
   "outputs": [],
   "source": []
  },
  {
   "cell_type": "code",
   "execution_count": null,
   "metadata": {},
   "outputs": [],
   "source": []
  }
 ],
 "metadata": {
  "accelerator": "TPU",
  "colab": {
   "collapsed_sections": [],
   "name": "lstm.ipynb",
   "provenance": [],
   "toc_visible": true
  },
  "kernelspec": {
   "display_name": "Python 3",
   "language": "python",
   "name": "python3"
  },
  "language_info": {
   "codemirror_mode": {
    "name": "ipython",
    "version": 3
   },
   "file_extension": ".py",
   "mimetype": "text/x-python",
   "name": "python",
   "nbconvert_exporter": "python",
   "pygments_lexer": "ipython3",
   "version": "3.7.6"
  }
 },
 "nbformat": 4,
 "nbformat_minor": 1
}
