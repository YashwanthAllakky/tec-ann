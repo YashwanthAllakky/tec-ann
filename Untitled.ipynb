{
 "cells": [
  {
   "cell_type": "code",
   "execution_count": 1,
   "metadata": {},
   "outputs": [
    {
     "name": "stderr",
     "output_type": "stream",
     "text": [
      "Using TensorFlow backend.\n"
     ]
    }
   ],
   "source": [
    "import numpy as np\n",
    "import pandas as pd\n",
    "import matplotlib.pyplot as plt\n",
    "%matplotlib inline\n",
    "from statsmodels.tools.eval_measures import rmse\n",
    "from sklearn.preprocessing import MinMaxScaler\n",
    "from keras.preprocessing.sequence import TimeseriesGenerator\n",
    "from keras.models import Sequential\n",
    "from keras.layers import Dense\n",
    "from keras.layers import LSTM\n",
    "from keras.layers import Dropout\n",
    "import warnings\n",
    "warnings.filterwarnings(\"ignore\")"
   ]
  },
  {
   "cell_type": "code",
   "execution_count": 3,
   "metadata": {},
   "outputs": [],
   "source": [
    "df = pd.read_csv(\"Data/Train_TEC_mar17.csv\")\n",
    "df.head()\n",
    "\n",
    "test_df = pd.read_csv(\"Data/Test_TEC_mar17.csv\")"
   ]
  },
  {
   "cell_type": "code",
   "execution_count": 4,
   "metadata": {},
   "outputs": [],
   "source": [
    "df.drop([\"Date\", \"Month\", \"Year\", \"Time\", \"LT\"], axis = 1, inplace = True)"
   ]
  },
  {
   "cell_type": "code",
   "execution_count": 5,
   "metadata": {},
   "outputs": [],
   "source": [
    "test_df.drop([\"Date\", \"Month\", \"Year\", \"Time\", \"LT\"], axis = 1, inplace = True)"
   ]
  },
  {
   "cell_type": "code",
   "execution_count": 6,
   "metadata": {},
   "outputs": [
    {
     "data": {
      "text/plain": [
       "(7920, 0)"
      ]
     },
     "execution_count": 6,
     "metadata": {},
     "output_type": "execute_result"
    }
   ],
   "source": [
    "test_df.shape"
   ]
  },
  {
   "cell_type": "code",
   "execution_count": 7,
   "metadata": {},
   "outputs": [],
   "source": [
    "test_df[\"TEC\"] = np.zeros((7920,1))"
   ]
  },
  {
   "cell_type": "code",
   "execution_count": 8,
   "metadata": {},
   "outputs": [],
   "source": [
    "test_df.TEC = test_df.TEC.astype('float32')"
   ]
  },
  {
   "cell_type": "code",
   "execution_count": 9,
   "metadata": {},
   "outputs": [
    {
     "data": {
      "text/html": [
       "<div>\n",
       "<style scoped>\n",
       "    .dataframe tbody tr th:only-of-type {\n",
       "        vertical-align: middle;\n",
       "    }\n",
       "\n",
       "    .dataframe tbody tr th {\n",
       "        vertical-align: top;\n",
       "    }\n",
       "\n",
       "    .dataframe thead th {\n",
       "        text-align: right;\n",
       "    }\n",
       "</style>\n",
       "<table border=\"1\" class=\"dataframe\">\n",
       "  <thead>\n",
       "    <tr style=\"text-align: right;\">\n",
       "      <th></th>\n",
       "      <th>TEC</th>\n",
       "    </tr>\n",
       "  </thead>\n",
       "  <tbody>\n",
       "    <tr>\n",
       "      <th>0</th>\n",
       "      <td>2.067562</td>\n",
       "    </tr>\n",
       "    <tr>\n",
       "      <th>1</th>\n",
       "      <td>2.082707</td>\n",
       "    </tr>\n",
       "    <tr>\n",
       "      <th>2</th>\n",
       "      <td>2.004272</td>\n",
       "    </tr>\n",
       "    <tr>\n",
       "      <th>3</th>\n",
       "      <td>1.736569</td>\n",
       "    </tr>\n",
       "    <tr>\n",
       "      <th>4</th>\n",
       "      <td>1.758503</td>\n",
       "    </tr>\n",
       "  </tbody>\n",
       "</table>\n",
       "</div>"
      ],
      "text/plain": [
       "        TEC\n",
       "0  2.067562\n",
       "1  2.082707\n",
       "2  2.004272\n",
       "3  1.736569\n",
       "4  1.758503"
      ]
     },
     "execution_count": 9,
     "metadata": {},
     "output_type": "execute_result"
    }
   ],
   "source": [
    "df.head()"
   ]
  },
  {
   "cell_type": "code",
   "execution_count": 10,
   "metadata": {},
   "outputs": [],
   "source": [
    "df.TEC = df.TEC.astype('float32')"
   ]
  },
  {
   "cell_type": "code",
   "execution_count": 11,
   "metadata": {},
   "outputs": [],
   "source": [
    "train = df\n",
    "test = test_df"
   ]
  },
  {
   "cell_type": "code",
   "execution_count": 12,
   "metadata": {},
   "outputs": [],
   "source": [
    "scaler = MinMaxScaler()\n",
    "scaler.fit(train)\n",
    "train = scaler.transform(train)\n",
    "test = scaler.transform(test)"
   ]
  },
  {
   "cell_type": "code",
   "execution_count": 13,
   "metadata": {},
   "outputs": [],
   "source": [
    "n_input = 50\n",
    "n_features = 1\n",
    "generator = TimeseriesGenerator(train, train, length=n_input, batch_size=6)"
   ]
  },
  {
   "cell_type": "code",
   "execution_count": 14,
   "metadata": {},
   "outputs": [],
   "source": [
    "model = Sequential()\n",
    "model.add(LSTM(200, activation='relu', input_shape=(n_input, n_features)))\n",
    "model.add(Dropout(0.15))\n",
    "model.add(Dense(1))\n",
    "model.compile(optimizer='adam', loss='mse')"
   ]
  },
  {
   "cell_type": "code",
   "execution_count": null,
   "metadata": {},
   "outputs": [
    {
     "name": "stdout",
     "output_type": "stream",
     "text": [
      "Epoch 1/90\n",
      "2392/2392 [==============================] - 102s 43ms/step - loss: 0.0020\n",
      "Epoch 2/90\n",
      "2392/2392 [==============================] - 102s 42ms/step - loss: 7.3048e-04\n",
      "Epoch 3/90\n",
      "2392/2392 [==============================] - 101s 42ms/step - loss: 6.1240e-04\n",
      "Epoch 4/90\n",
      "2392/2392 [==============================] - 100s 42ms/step - loss: 5.3752e-04\n",
      "Epoch 5/90\n",
      "2392/2392 [==============================] - 103s 43ms/step - loss: 5.0670e-04\n",
      "Epoch 6/90\n",
      "2392/2392 [==============================] - 100s 42ms/step - loss: 4.5826e-04\n",
      "Epoch 7/90\n",
      "2392/2392 [==============================] - 100s 42ms/step - loss: 4.8828e-04\n",
      "Epoch 8/90\n",
      "2392/2392 [==============================] - 99s 41ms/step - loss: 4.5736e-04\n",
      "Epoch 9/90\n",
      "2392/2392 [==============================] - 99s 41ms/step - loss: 4.4940e-04\n",
      "Epoch 10/90\n",
      "2392/2392 [==============================] - 98s 41ms/step - loss: 4.3655e-04\n",
      "Epoch 11/90\n",
      "2392/2392 [==============================] - 102s 43ms/step - loss: 4.2904e-04\n",
      "Epoch 12/90\n",
      "2392/2392 [==============================] - 103s 43ms/step - loss: 4.2770e-04\n",
      "Epoch 13/90\n",
      "2392/2392 [==============================] - 103s 43ms/step - loss: 4.2647e-04\n",
      "Epoch 14/90\n",
      "2392/2392 [==============================] - 102s 43ms/step - loss: 4.1621e-04\n",
      "Epoch 15/90\n",
      "2392/2392 [==============================] - 104s 43ms/step - loss: 4.2544e-04\n",
      "Epoch 16/90\n",
      "2392/2392 [==============================] - 103s 43ms/step - loss: 4.0045e-04\n",
      "Epoch 17/90\n",
      "2392/2392 [==============================] - 103s 43ms/step - loss: 4.0633e-04\n",
      "Epoch 18/90\n",
      "2392/2392 [==============================] - 105s 44ms/step - loss: 4.1160e-04\n",
      "Epoch 19/90\n",
      "2392/2392 [==============================] - 104s 44ms/step - loss: 4.0482e-04\n",
      "Epoch 20/90\n",
      "2392/2392 [==============================] - 103s 43ms/step - loss: 3.9501e-04\n",
      "Epoch 21/90\n",
      "2392/2392 [==============================] - 101s 42ms/step - loss: 4.0378e-04\n",
      "Epoch 22/90\n",
      "2392/2392 [==============================] - 101s 42ms/step - loss: 3.8972e-04\n",
      "Epoch 23/90\n",
      "2392/2392 [==============================] - 103s 43ms/step - loss: 3.9392e-04\n",
      "Epoch 24/90\n",
      "2392/2392 [==============================] - 101s 42ms/step - loss: 3.9713e-04\n",
      "Epoch 25/90\n",
      "2392/2392 [==============================] - 100s 42ms/step - loss: 4.0822e-04\n",
      "Epoch 26/90\n",
      "2392/2392 [==============================] - 101s 42ms/step - loss: 3.8035e-04\n",
      "Epoch 27/90\n",
      "2392/2392 [==============================] - 102s 42ms/step - loss: 3.9169e-04\n",
      "Epoch 28/90\n",
      "2392/2392 [==============================] - 103s 43ms/step - loss: 3.9739e-04\n",
      "Epoch 29/90\n",
      "2392/2392 [==============================] - 100s 42ms/step - loss: 3.8184e-04\n",
      "Epoch 30/90\n",
      "2392/2392 [==============================] - 100s 42ms/step - loss: 3.8269e-04\n",
      "Epoch 31/90\n",
      "2392/2392 [==============================] - 99s 41ms/step - loss: 3.7883e-04\n",
      "Epoch 32/90\n",
      "2392/2392 [==============================] - 98s 41ms/step - loss: 3.8471e-04\n",
      "Epoch 33/90\n",
      "2392/2392 [==============================] - 99s 41ms/step - loss: 3.8906e-04\n",
      "Epoch 34/90\n",
      "2392/2392 [==============================] - 99s 41ms/step - loss: 3.8379e-04\n",
      "Epoch 35/90\n",
      "2392/2392 [==============================] - 99s 42ms/step - loss: 3.7868e-04\n",
      "Epoch 36/90\n",
      "2392/2392 [==============================] - 99s 41ms/step - loss: 3.8544e-04\n",
      "Epoch 37/90\n",
      "2392/2392 [==============================] - 97s 41ms/step - loss: 3.8530e-04\n",
      "Epoch 38/90\n",
      "2392/2392 [==============================] - 98s 41ms/step - loss: 3.7849e-04\n",
      "Epoch 39/90\n",
      "2392/2392 [==============================] - 97s 41ms/step - loss: 3.8637e-04\n",
      "Epoch 40/90\n",
      "2392/2392 [==============================] - 97s 41ms/step - loss: 3.7371e-04\n",
      "Epoch 41/90\n",
      "2392/2392 [==============================] - 97s 41ms/step - loss: 3.7015e-04\n",
      "Epoch 42/90\n",
      "1942/2392 [=======================>......] - ETA: 18s - loss: 3.8934e-04"
     ]
    }
   ],
   "source": [
    "model.fit_generator(generator,epochs=90)"
   ]
  },
  {
   "cell_type": "code",
   "execution_count": null,
   "metadata": {},
   "outputs": [],
   "source": [
    "pred_list = []\n",
    "\n",
    "batch = train[-n_input:].reshape((1, n_input, n_features))\n",
    "\n",
    "for i in range(n_input):   \n",
    "    pred_list.append(model.predict(batch)[0]) \n",
    "    batch = np.append(batch[:,1:,:],[[pred_list[i]]],axis=1)"
   ]
  },
  {
   "cell_type": "code",
   "execution_count": null,
   "metadata": {},
   "outputs": [],
   "source": [
    "df_predict = pd.DataFrame(scaler.inverse_transform(pred_list),\n",
    "                          index=df[-n_input:].index, columns=['Prediction'])\n",
    "\n",
    "df_test = pd.concat([df,df_predict], axis=1)"
   ]
  },
  {
   "cell_type": "code",
   "execution_count": null,
   "metadata": {},
   "outputs": [],
   "source": [
    "plt.figure(figsize=(20, 5))\n",
    "plt.plot(df_test.index, df_test['AirPassengers'])\n",
    "plt.plot(df_test.index, df_test['Prediction'], color='r')\n",
    "plt.legend(loc='best', fontsize='xx-large')\n",
    "plt.xticks(fontsize=18)\n",
    "plt.yticks(fontsize=16)\n",
    "plt.show()"
   ]
  },
  {
   "cell_type": "code",
   "execution_count": null,
   "metadata": {},
   "outputs": [],
   "source": [
    "pred_actual_rmse = rmse(df_test.iloc[-n_input:, [0]], df_test.iloc[-n_input:, [1]])\n",
    "print(\"rmse: \", pred_actual_rmse)"
   ]
  },
  {
   "cell_type": "code",
   "execution_count": null,
   "metadata": {},
   "outputs": [],
   "source": [
    "train = df"
   ]
  },
  {
   "cell_type": "code",
   "execution_count": null,
   "metadata": {},
   "outputs": [],
   "source": [
    "scaler.fit(train)\n",
    "train = scaler.transform(train)"
   ]
  },
  {
   "cell_type": "code",
   "execution_count": null,
   "metadata": {},
   "outputs": [],
   "source": [
    "n_input = 50\n",
    "n_features = 1\n",
    "generator = TimeseriesGenerator(train, train, length=n_input, batch_size=6)"
   ]
  },
  {
   "cell_type": "code",
   "execution_count": null,
   "metadata": {},
   "outputs": [],
   "source": [
    "model.fit_generator(generator,epochs=90)"
   ]
  },
  {
   "cell_type": "code",
   "execution_count": null,
   "metadata": {},
   "outputs": [],
   "source": [
    "pred_list = []\n",
    "\n",
    "batch = train[-n_input:].reshape((1, n_input, n_features))\n",
    "\n",
    "for i in range(n_input):   \n",
    "    pred_list.append(model.predict(batch)[0]) \n",
    "    batch = np.append(batch[:,1:,:],[[pred_list[i]]],axis=1)"
   ]
  },
  {
   "cell_type": "code",
   "execution_count": null,
   "metadata": {},
   "outputs": [],
   "source": []
  }
 ],
 "metadata": {
  "kernelspec": {
   "display_name": "Python 3",
   "language": "python",
   "name": "python3"
  },
  "language_info": {
   "codemirror_mode": {
    "name": "ipython",
    "version": 3
   },
   "file_extension": ".py",
   "mimetype": "text/x-python",
   "name": "python",
   "nbconvert_exporter": "python",
   "pygments_lexer": "ipython3",
   "version": "3.7.6"
  }
 },
 "nbformat": 4,
 "nbformat_minor": 4
}
