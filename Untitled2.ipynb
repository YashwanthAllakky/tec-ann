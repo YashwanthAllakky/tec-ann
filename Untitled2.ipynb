{
 "cells": [
  {
   "cell_type": "code",
   "execution_count": 70,
   "metadata": {},
   "outputs": [],
   "source": [
    "import numpy as np\n",
    "import pandas as pd\n",
    "from pandas.tseries.offsets import DateOffset\n",
    "from sklearn.preprocessing import MinMaxScaler\n",
    "\n",
    "import tensorflow as tf\n",
    "from tensorflow import keras\n",
    "\n",
    "from tensorflow.keras.preprocessing.sequence import TimeseriesGenerator\n",
    "from tensorflow.keras.models import Sequential\n",
    "from tensorflow.keras.layers import Dense\n",
    "from tensorflow.keras.layers import LSTM\n",
    "from tensorflow.keras.layers import Dropout\n",
    "import warnings\n",
    "warnings.filterwarnings(\"ignore\")\n",
    "\n",
    "import matplotlib.pyplot as plt"
   ]
  },
  {
   "cell_type": "code",
   "execution_count": 60,
   "metadata": {},
   "outputs": [
    {
     "data": {
      "text/html": [
       "<div>\n",
       "<style scoped>\n",
       "    .dataframe tbody tr th:only-of-type {\n",
       "        vertical-align: middle;\n",
       "    }\n",
       "\n",
       "    .dataframe tbody tr th {\n",
       "        vertical-align: top;\n",
       "    }\n",
       "\n",
       "    .dataframe thead th {\n",
       "        text-align: right;\n",
       "    }\n",
       "</style>\n",
       "<table border=\"1\" class=\"dataframe\">\n",
       "  <thead>\n",
       "    <tr style=\"text-align: right;\">\n",
       "      <th></th>\n",
       "      <th>Date</th>\n",
       "      <th>Month</th>\n",
       "      <th>Year</th>\n",
       "      <th>Time</th>\n",
       "      <th>LT</th>\n",
       "      <th>TEC</th>\n",
       "    </tr>\n",
       "  </thead>\n",
       "  <tbody>\n",
       "    <tr>\n",
       "      <th>14395</th>\n",
       "      <td>20</td>\n",
       "      <td>3</td>\n",
       "      <td>2017</td>\n",
       "      <td>23.849722</td>\n",
       "      <td>29.144887</td>\n",
       "      <td>1.717251</td>\n",
       "    </tr>\n",
       "    <tr>\n",
       "      <th>14396</th>\n",
       "      <td>20</td>\n",
       "      <td>3</td>\n",
       "      <td>2017</td>\n",
       "      <td>23.883056</td>\n",
       "      <td>29.178223</td>\n",
       "      <td>1.653964</td>\n",
       "    </tr>\n",
       "    <tr>\n",
       "      <th>14397</th>\n",
       "      <td>20</td>\n",
       "      <td>3</td>\n",
       "      <td>2017</td>\n",
       "      <td>23.916389</td>\n",
       "      <td>29.211560</td>\n",
       "      <td>1.315151</td>\n",
       "    </tr>\n",
       "    <tr>\n",
       "      <th>14398</th>\n",
       "      <td>20</td>\n",
       "      <td>3</td>\n",
       "      <td>2017</td>\n",
       "      <td>23.949722</td>\n",
       "      <td>29.244896</td>\n",
       "      <td>1.293472</td>\n",
       "    </tr>\n",
       "    <tr>\n",
       "      <th>14399</th>\n",
       "      <td>20</td>\n",
       "      <td>3</td>\n",
       "      <td>2017</td>\n",
       "      <td>23.983056</td>\n",
       "      <td>29.278233</td>\n",
       "      <td>1.633741</td>\n",
       "    </tr>\n",
       "  </tbody>\n",
       "</table>\n",
       "</div>"
      ],
      "text/plain": [
       "       Date  Month  Year       Time         LT       TEC\n",
       "14395    20      3  2017  23.849722  29.144887  1.717251\n",
       "14396    20      3  2017  23.883056  29.178223  1.653964\n",
       "14397    20      3  2017  23.916389  29.211560  1.315151\n",
       "14398    20      3  2017  23.949722  29.244896  1.293472\n",
       "14399    20      3  2017  23.983056  29.278233  1.633741"
      ]
     },
     "execution_count": 60,
     "metadata": {},
     "output_type": "execute_result"
    }
   ],
   "source": [
    "df = pd.read_csv('Data/Train_TEC_mar17.csv')\n",
    "df.tail()"
   ]
  },
  {
   "cell_type": "code",
   "execution_count": 61,
   "metadata": {},
   "outputs": [
    {
     "data": {
      "text/html": [
       "<div>\n",
       "<style scoped>\n",
       "    .dataframe tbody tr th:only-of-type {\n",
       "        vertical-align: middle;\n",
       "    }\n",
       "\n",
       "    .dataframe tbody tr th {\n",
       "        vertical-align: top;\n",
       "    }\n",
       "\n",
       "    .dataframe thead th {\n",
       "        text-align: right;\n",
       "    }\n",
       "</style>\n",
       "<table border=\"1\" class=\"dataframe\">\n",
       "  <thead>\n",
       "    <tr style=\"text-align: right;\">\n",
       "      <th></th>\n",
       "      <th>TEC</th>\n",
       "      <th>Date - Time</th>\n",
       "    </tr>\n",
       "  </thead>\n",
       "  <tbody>\n",
       "    <tr>\n",
       "      <th>14395</th>\n",
       "      <td>1.717251</td>\n",
       "      <td>1554508200</td>\n",
       "    </tr>\n",
       "    <tr>\n",
       "      <th>14396</th>\n",
       "      <td>1.653964</td>\n",
       "      <td>1554508320</td>\n",
       "    </tr>\n",
       "    <tr>\n",
       "      <th>14397</th>\n",
       "      <td>1.315151</td>\n",
       "      <td>1554508440</td>\n",
       "    </tr>\n",
       "    <tr>\n",
       "      <th>14398</th>\n",
       "      <td>1.293472</td>\n",
       "      <td>1554508560</td>\n",
       "    </tr>\n",
       "    <tr>\n",
       "      <th>14399</th>\n",
       "      <td>1.633741</td>\n",
       "      <td>1554508680</td>\n",
       "    </tr>\n",
       "  </tbody>\n",
       "</table>\n",
       "</div>"
      ],
      "text/plain": [
       "            TEC  Date - Time\n",
       "14395  1.717251   1554508200\n",
       "14396  1.653964   1554508320\n",
       "14397  1.315151   1554508440\n",
       "14398  1.293472   1554508560\n",
       "14399  1.633741   1554508680"
      ]
     },
     "execution_count": 61,
     "metadata": {},
     "output_type": "execute_result"
    }
   ],
   "source": [
    "df.drop([\"Date\", \"Month\", \"Year\", \"LT\", \"Time\"], axis = 1, inplace = True)\n",
    "df[\"Date - Time\"] = pd.Series(np.arange(1552780800,1554508800,120))\n",
    "df.tail()"
   ]
  },
  {
   "cell_type": "code",
   "execution_count": 64,
   "metadata": {},
   "outputs": [
    {
     "data": {
      "text/html": [
       "<div>\n",
       "<style scoped>\n",
       "    .dataframe tbody tr th:only-of-type {\n",
       "        vertical-align: middle;\n",
       "    }\n",
       "\n",
       "    .dataframe tbody tr th {\n",
       "        vertical-align: top;\n",
       "    }\n",
       "\n",
       "    .dataframe thead th {\n",
       "        text-align: right;\n",
       "    }\n",
       "</style>\n",
       "<table border=\"1\" class=\"dataframe\">\n",
       "  <thead>\n",
       "    <tr style=\"text-align: right;\">\n",
       "      <th></th>\n",
       "      <th>TEC</th>\n",
       "      <th>Date - Time</th>\n",
       "    </tr>\n",
       "  </thead>\n",
       "  <tbody>\n",
       "    <tr>\n",
       "      <th>0</th>\n",
       "      <td>2.067562</td>\n",
       "      <td>2019-03-17 00:00:00</td>\n",
       "    </tr>\n",
       "    <tr>\n",
       "      <th>1</th>\n",
       "      <td>2.082707</td>\n",
       "      <td>2019-03-17 00:02:00</td>\n",
       "    </tr>\n",
       "    <tr>\n",
       "      <th>2</th>\n",
       "      <td>2.004272</td>\n",
       "      <td>2019-03-17 00:04:00</td>\n",
       "    </tr>\n",
       "    <tr>\n",
       "      <th>3</th>\n",
       "      <td>1.736569</td>\n",
       "      <td>2019-03-17 00:06:00</td>\n",
       "    </tr>\n",
       "    <tr>\n",
       "      <th>4</th>\n",
       "      <td>1.758503</td>\n",
       "      <td>2019-03-17 00:08:00</td>\n",
       "    </tr>\n",
       "  </tbody>\n",
       "</table>\n",
       "</div>"
      ],
      "text/plain": [
       "        TEC         Date - Time\n",
       "0  2.067562 2019-03-17 00:00:00\n",
       "1  2.082707 2019-03-17 00:02:00\n",
       "2  2.004272 2019-03-17 00:04:00\n",
       "3  1.736569 2019-03-17 00:06:00\n",
       "4  1.758503 2019-03-17 00:08:00"
      ]
     },
     "execution_count": 64,
     "metadata": {},
     "output_type": "execute_result"
    }
   ],
   "source": [
    "df[\"Date - Time\"] = pd.to_datetime(df['Date - Time'], unit='s')\n",
    "df.head()"
   ]
  },
  {
   "cell_type": "code",
   "execution_count": 66,
   "metadata": {},
   "outputs": [],
   "source": [
    "df = df.set_index(\"Date - Time\")"
   ]
  },
  {
   "cell_type": "code",
   "execution_count": 72,
   "metadata": {},
   "outputs": [
    {
     "data": {
      "text/plain": [
       "[<matplotlib.lines.Line2D at 0x198d6c39108>]"
      ]
     },
     "execution_count": 72,
     "metadata": {},
     "output_type": "execute_result"
    },
    {
     "data": {
      "image/png": "[encoded data removed]",
      "text/plain": [
       "<Figure size 432x288 with 1 Axes>"
      ]
     },
     "metadata": {
      "needs_background": "light"
     },
     "output_type": "display_data"
    }
   ],
   "source": [
    "train = df\n",
    "plt.plot(train)"
   ]
  },
  {
   "cell_type": "code",
   "execution_count": 73,
   "metadata": {},
   "outputs": [
    {
     "data": {
      "text/plain": [
       "(14400, 1)"
      ]
     },
     "execution_count": 73,
     "metadata": {},
     "output_type": "execute_result"
    }
   ],
   "source": [
    "train.shape"
   ]
  },
  {
   "cell_type": "code",
   "execution_count": 74,
   "metadata": {},
   "outputs": [],
   "source": [
    "scaler = MinMaxScaler()\n",
    "scaler.fit(train)\n",
    "train = scaler.transform(train)"
   ]
  },
  {
   "cell_type": "code",
   "execution_count": 82,
   "metadata": {},
   "outputs": [],
   "source": [
    "n_input = 25\n",
    "n_features = 1\n",
    "generator = TimeseriesGenerator(train, train, length=n_input, batch_size=6)"
   ]
  },
  {
   "cell_type": "code",
   "execution_count": 83,
   "metadata": {},
   "outputs": [],
   "source": [
    "model = Sequential()\n",
    "model.add(LSTM(200, activation='relu', input_shape=(n_input, n_features)))\n",
    "model.add(Dropout(0.15))\n",
    "model.add(Dense(1))\n",
    "\n",
    "optimizer = keras.optimizers.Adam(learning_rate=0.001)\n",
    "model.compile(optimizer=optimizer, loss='mse')"
   ]
  },
  {
   "cell_type": "code",
   "execution_count": null,
   "metadata": {},
   "outputs": [
    {
     "name": "stdout",
     "output_type": "stream",
     "text": [
      "WARNING:tensorflow:sample_weight modes were coerced from\n",
      "  ...\n",
      "    to  \n",
      "  ['...']\n",
      "Train for 2396 steps\n",
      "Epoch 1/100\n",
      "2396/2396 [==============================] - 29s 12ms/step - loss: 0.0020\n",
      "Epoch 2/100\n",
      "2396/2396 [==============================] - 29s 12ms/step - loss: 7.3071e-04\n",
      "Epoch 3/100\n",
      "2396/2396 [==============================] - 30s 12ms/step - loss: 6.3294e-04\n",
      "Epoch 4/100\n",
      "2396/2396 [==============================] - 30s 12ms/step - loss: 5.6834e-04\n",
      "Epoch 5/100\n",
      "2396/2396 [==============================] - 30s 12ms/step - loss: 5.0657e-04\n",
      "Epoch 6/100\n",
      "2396/2396 [==============================] - 30s 12ms/step - loss: 4.9503e-04\n",
      "Epoch 7/100\n",
      "2396/2396 [==============================] - 30s 12ms/step - loss: 4.5746e-04\n",
      "Epoch 8/100\n",
      "2396/2396 [==============================] - 30s 13ms/step - loss: 4.6103e-04\n",
      "Epoch 9/100\n",
      "2396/2396 [==============================] - 30s 13ms/step - loss: 4.3177e-04\n",
      "Epoch 10/100\n",
      "2396/2396 [==============================] - 30s 13ms/step - loss: 4.1462e-04\n",
      "Epoch 11/100\n",
      "2396/2396 [==============================] - 30s 13ms/step - loss: 4.1166e-04\n",
      "Epoch 12/100\n",
      "2396/2396 [==============================] - 30s 13ms/step - loss: 4.1863e-04\n",
      "Epoch 13/100\n",
      "2396/2396 [==============================] - 30s 13ms/step - loss: 3.9741e-04\n",
      "Epoch 14/100\n",
      "2396/2396 [==============================] - 30s 12ms/step - loss: 3.9438e-04\n",
      "Epoch 15/100\n",
      "2396/2396 [==============================] - 30s 13ms/step - loss: 4.1516e-04\n",
      "Epoch 16/100\n",
      "2396/2396 [==============================] - 31s 13ms/step - loss: 4.0173e-04\n",
      "Epoch 17/100\n",
      "2396/2396 [==============================] - 30s 13ms/step - loss: 3.8857e-04\n",
      "Epoch 18/100\n",
      "2396/2396 [==============================] - 30s 13ms/step - loss: 3.8479e-04\n",
      "Epoch 19/100\n",
      "2396/2396 [==============================] - 30s 13ms/step - loss: 3.9261e-04\n",
      "Epoch 20/100\n",
      "2396/2396 [==============================] - 30s 13ms/step - loss: 3.8764e-04\n",
      "Epoch 21/100\n",
      "2396/2396 [==============================] - 31s 13ms/step - loss: 3.8662e-04\n",
      "Epoch 22/100\n",
      "2396/2396 [==============================] - 31s 13ms/step - loss: 3.7180e-04\n",
      "Epoch 23/100\n",
      "2396/2396 [==============================] - 30s 13ms/step - loss: 3.8246e-04\n",
      "Epoch 24/100\n",
      "2396/2396 [==============================] - 30s 13ms/step - loss: 3.7074e-04\n",
      "Epoch 25/100\n",
      "2396/2396 [==============================] - 31s 13ms/step - loss: 3.7530e-04\n",
      "Epoch 26/100\n",
      "2396/2396 [==============================] - 31s 13ms/step - loss: 3.8234e-04\n",
      "Epoch 27/100\n",
      " 552/2396 [=====>........................] - ETA: 23s - loss: 3.5222e-04"
     ]
    }
   ],
   "source": [
    "history = model.fit_generator(generator,epochs=100,verbose=1)"
   ]
  },
  {
   "cell_type": "code",
   "execution_count": null,
   "metadata": {},
   "outputs": [],
   "source": [
    "pred_list = []\n",
    "\n",
    "batch = train[-n_input:].reshape((1, n_input, n_features))\n",
    "\n",
    "for i in range(n_input):   \n",
    "    pred_list.append(model.predict(batch)[0]) \n",
    "    batch = np.append(batch[:,1:,:],[[pred_list[i]]],axis=1)"
   ]
  },
  {
   "cell_type": "code",
   "execution_count": null,
   "metadata": {},
   "outputs": [],
   "source": [
    "future_secs = pd.Series(np.arange(1554508800,1554509070,120))"
   ]
  },
  {
   "cell_type": "code",
   "execution_count": null,
   "metadata": {},
   "outputs": [],
   "source": [
    "future_mins = pd.to_datetime(future_mins, unit='s')"
   ]
  }
 ],
 "metadata": {
  "kernelspec": {
   "display_name": "Python 3",
   "language": "python",
   "name": "python3"
  },
  "language_info": {
   "codemirror_mode": {
    "name": "ipython",
    "version": 3
   },
   "file_extension": ".py",
   "mimetype": "text/x-python",
   "name": "python",
   "nbconvert_exporter": "python",
   "pygments_lexer": "ipython3",
   "version": "3.7.6"
  }
 },
 "nbformat": 4,
 "nbformat_minor": 4
}
