{
 "cells": [
  {
   "cell_type": "code",
   "execution_count": 4,
   "metadata": {},
   "outputs": [],
   "source": [
    "import math\n",
    "import numpy\n",
    "import matplotlib.pyplot as plt\n",
    "import pandas as pd\n",
    "from pandas import read_csv\n",
    "from keras.models import Sequential\n",
    "from keras.layers import Dense\n",
    "from keras.layers import LSTM\n",
    "from sklearn.preprocessing import MinMaxScaler\n",
    "from sklearn.metrics import mean_squared_error"
   ]
  },
  {
   "cell_type": "code",
   "execution_count": 5,
   "metadata": {},
   "outputs": [],
   "source": [
    "# convert an array of values into a data_set matrix\n",
    "def create_data_set(_data_set, _look_back=1):\n",
    "    data_x, data_y = [], []\n",
    "    for i in range(len(_data_set) - _look_back - 1):\n",
    "        a = _data_set[i:(i + _look_back), 0]\n",
    "        data_x.append(a)\n",
    "        data_y.append(_data_set[i + _look_back, 0])\n",
    "    return numpy.array(data_x), numpy.array(data_y)"
   ]
  },
  {
   "cell_type": "code",
   "execution_count": 8,
   "metadata": {},
   "outputs": [],
   "source": [
    "data_set = pd.read_csv(\"../Data/Train_TEC_mar17.csv\")\n",
    "data_set.drop([\"Date\",\"Month\",\"Year\",\"Time\",\"LT\"], inplace = True, axis = 1)\n",
    "data_set = data_set.TEC.values\n",
    "data_set = data_set.astype('float32').reshape(-1,1)"
   ]
  },
  {
   "cell_type": "code",
   "execution_count": 9,
   "metadata": {},
   "outputs": [],
   "source": [
    "scaler = MinMaxScaler(feature_range=(0, 1))\n",
    "data_set = scaler.fit_transform(data_set)"
   ]
  },
  {
   "cell_type": "code",
   "execution_count": 10,
   "metadata": {},
   "outputs": [],
   "source": [
    "train_size = int(len(data_set) * 0.90)\n",
    "test_size = len(data_set) - train_size\n",
    "train, test = data_set[0:train_size, :], data_set[train_size:len(data_set), :]"
   ]
  },
  {
   "cell_type": "code",
   "execution_count": 11,
   "metadata": {},
   "outputs": [],
   "source": [
    "look_back = 1\n",
    "train_x, train_y = create_data_set(train, look_back)\n",
    "test_x, test_y = create_data_set(test, look_back)\n",
    "\n",
    "# reshape input to be [samples, time steps, features]\n",
    "train_x = numpy.reshape(train_x, (train_x.shape[0], 1, train_x.shape[1]))\n",
    "test_x = numpy.reshape(test_x, (test_x.shape[0], 1, test_x.shape[1]))"
   ]
  },
  {
   "cell_type": "code",
   "execution_count": 12,
   "metadata": {},
   "outputs": [
    {
     "name": "stdout",
     "output_type": "stream",
     "text": [
      "Epoch 1/25\n",
      " - 13s - loss: 0.0047\n",
      "Epoch 2/25\n",
      " - 13s - loss: 9.6517e-05\n",
      "Epoch 3/25\n",
      " - 13s - loss: 8.3940e-05\n",
      "Epoch 4/25\n",
      " - 13s - loss: 7.6109e-05\n",
      "Epoch 5/25\n",
      " - 13s - loss: 6.9557e-05\n",
      "Epoch 6/25\n",
      " - 14s - loss: 6.6430e-05\n",
      "Epoch 7/25\n",
      " - 14s - loss: 6.3695e-05\n",
      "Epoch 8/25\n",
      " - 14s - loss: 6.1868e-05\n",
      "Epoch 9/25\n",
      " - 13s - loss: 5.9399e-05\n",
      "Epoch 10/25\n",
      " - 13s - loss: 5.8939e-05\n",
      "Epoch 11/25\n",
      " - 13s - loss: 5.8270e-05\n",
      "Epoch 12/25\n",
      " - 13s - loss: 5.6074e-05\n",
      "Epoch 13/25\n",
      " - 14s - loss: 5.4694e-05\n",
      "Epoch 14/25\n",
      " - 13s - loss: 5.3542e-05\n",
      "Epoch 15/25\n",
      " - 13s - loss: 5.3715e-05\n",
      "Epoch 16/25\n",
      " - 13s - loss: 5.3052e-05\n",
      "Epoch 17/25\n",
      " - 13s - loss: 5.2866e-05\n",
      "Epoch 18/25\n",
      " - 13s - loss: 5.2942e-05\n",
      "Epoch 19/25\n",
      " - 13s - loss: 5.3442e-05\n",
      "Epoch 20/25\n",
      " - 14s - loss: 5.1857e-05\n",
      "Epoch 21/25\n",
      " - 14s - loss: 5.1673e-05\n",
      "Epoch 22/25\n",
      " - 13s - loss: 5.2220e-05\n",
      "Epoch 23/25\n",
      " - 13s - loss: 5.1716e-05\n",
      "Epoch 24/25\n",
      " - 14s - loss: 5.2290e-05\n",
      "Epoch 25/25\n",
      " - 13s - loss: 5.2614e-05\n"
     ]
    },
    {
     "data": {
      "text/plain": [
       "<keras.callbacks.callbacks.History at 0x1f8e87563c8>"
      ]
     },
     "execution_count": 12,
     "metadata": {},
     "output_type": "execute_result"
    }
   ],
   "source": [
    "model = Sequential()\n",
    "model.add(LSTM(4, input_shape=(1, look_back)))\n",
    "model.add(Dense(1))\n",
    "model.compile(loss='mean_squared_error', optimizer='adam')\n",
    "model.fit(train_x, train_y, epochs=25, batch_size=1, verbose=2)"
   ]
  },
  {
   "cell_type": "code",
   "execution_count": null,
   "metadata": {},
   "outputs": [],
   "source": []
  }
 ],
 "metadata": {
  "kernelspec": {
   "display_name": "Python 3",
   "language": "python",
   "name": "python3"
  },
  "language_info": {
   "codemirror_mode": {
    "name": "ipython",
    "version": 3
   },
   "file_extension": ".py",
   "mimetype": "text/x-python",
   "name": "python",
   "nbconvert_exporter": "python",
   "pygments_lexer": "ipython3",
   "version": "3.7.6"
  }
 },
 "nbformat": 4,
 "nbformat_minor": 4
}
