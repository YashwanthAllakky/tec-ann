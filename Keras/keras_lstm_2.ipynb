{
 "cells": [
  {
   "cell_type": "code",
   "execution_count": 1,
   "metadata": {
    "colab": {},
    "colab_type": "code",
    "id": "1nIFcqyd8_K0"
   },
   "outputs": [
    {
     "name": "stderr",
     "output_type": "stream",
     "text": [
      "Using TensorFlow backend.\n"
     ]
    }
   ],
   "source": [
    "import pandas as pd\n",
    "import numpy as np\n",
    "import keras\n",
    "import tensorflow as tf\n",
    "from keras.preprocessing.sequence import TimeseriesGenerator\n",
    "%matplotlib inline\n",
    "import matplotlib.pyplot as plt"
   ]
  },
  {
   "cell_type": "code",
   "execution_count": 2,
   "metadata": {
    "colab": {
     "base_uri": "https://localhost:8080/",
     "height": 204
    },
    "colab_type": "code",
    "id": "jOC9_g8W-fSc",
    "outputId": "1b1d2c29-9404-4b6f-c192-5fa721352969"
   },
   "outputs": [
    {
     "data": {
      "text/html": [
       "<div>\n",
       "<style scoped>\n",
       "    .dataframe tbody tr th:only-of-type {\n",
       "        vertical-align: middle;\n",
       "    }\n",
       "\n",
       "    .dataframe tbody tr th {\n",
       "        vertical-align: top;\n",
       "    }\n",
       "\n",
       "    .dataframe thead th {\n",
       "        text-align: right;\n",
       "    }\n",
       "</style>\n",
       "<table border=\"1\" class=\"dataframe\">\n",
       "  <thead>\n",
       "    <tr style=\"text-align: right;\">\n",
       "      <th></th>\n",
       "      <th>Date</th>\n",
       "      <th>Month</th>\n",
       "      <th>Year</th>\n",
       "      <th>Time</th>\n",
       "      <th>LT</th>\n",
       "      <th>TEC</th>\n",
       "    </tr>\n",
       "  </thead>\n",
       "  <tbody>\n",
       "    <tr>\n",
       "      <th>0</th>\n",
       "      <td>1</td>\n",
       "      <td>3</td>\n",
       "      <td>2017</td>\n",
       "      <td>0.016389</td>\n",
       "      <td>5.311333</td>\n",
       "      <td>2.067562</td>\n",
       "    </tr>\n",
       "    <tr>\n",
       "      <th>1</th>\n",
       "      <td>1</td>\n",
       "      <td>3</td>\n",
       "      <td>2017</td>\n",
       "      <td>0.049722</td>\n",
       "      <td>5.344670</td>\n",
       "      <td>2.082707</td>\n",
       "    </tr>\n",
       "    <tr>\n",
       "      <th>2</th>\n",
       "      <td>1</td>\n",
       "      <td>3</td>\n",
       "      <td>2017</td>\n",
       "      <td>0.083056</td>\n",
       "      <td>5.378006</td>\n",
       "      <td>2.004272</td>\n",
       "    </tr>\n",
       "    <tr>\n",
       "      <th>3</th>\n",
       "      <td>1</td>\n",
       "      <td>3</td>\n",
       "      <td>2017</td>\n",
       "      <td>0.116389</td>\n",
       "      <td>5.411343</td>\n",
       "      <td>1.736569</td>\n",
       "    </tr>\n",
       "    <tr>\n",
       "      <th>4</th>\n",
       "      <td>1</td>\n",
       "      <td>3</td>\n",
       "      <td>2017</td>\n",
       "      <td>0.149722</td>\n",
       "      <td>5.444679</td>\n",
       "      <td>1.758503</td>\n",
       "    </tr>\n",
       "  </tbody>\n",
       "</table>\n",
       "</div>"
      ],
      "text/plain": [
       "   Date  Month  Year      Time        LT       TEC\n",
       "0     1      3  2017  0.016389  5.311333  2.067562\n",
       "1     1      3  2017  0.049722  5.344670  2.082707\n",
       "2     1      3  2017  0.083056  5.378006  2.004272\n",
       "3     1      3  2017  0.116389  5.411343  1.736569\n",
       "4     1      3  2017  0.149722  5.444679  1.758503"
      ]
     },
     "execution_count": 2,
     "metadata": {},
     "output_type": "execute_result"
    }
   ],
   "source": [
    "df = pd.read_csv(\"Train_TEC_mar17.csv\")\n",
    "df.head()"
   ]
  },
  {
   "cell_type": "code",
   "execution_count": 3,
   "metadata": {
    "colab": {
     "base_uri": "https://localhost:8080/",
     "height": 34
    },
    "colab_type": "code",
    "id": "gBJGqXFSTKz2",
    "outputId": "a279c7bf-d6df-492b-b86b-c89f0fbb51fe"
   },
   "outputs": [
    {
     "data": {
      "text/plain": [
       "86400"
      ]
     },
     "execution_count": 3,
     "metadata": {},
     "output_type": "execute_result"
    }
   ],
   "source": [
    "df.size"
   ]
  },
  {
   "cell_type": "code",
   "execution_count": 4,
   "metadata": {
    "colab": {
     "base_uri": "https://localhost:8080/",
     "height": 204
    },
    "colab_type": "code",
    "id": "rTXIYnit-lvc",
    "outputId": "9998f3bd-c139-43d2-bcc1-cad31c67a74e"
   },
   "outputs": [
    {
     "data": {
      "text/html": [
       "<div>\n",
       "<style scoped>\n",
       "    .dataframe tbody tr th:only-of-type {\n",
       "        vertical-align: middle;\n",
       "    }\n",
       "\n",
       "    .dataframe tbody tr th {\n",
       "        vertical-align: top;\n",
       "    }\n",
       "\n",
       "    .dataframe thead th {\n",
       "        text-align: right;\n",
       "    }\n",
       "</style>\n",
       "<table border=\"1\" class=\"dataframe\">\n",
       "  <thead>\n",
       "    <tr style=\"text-align: right;\">\n",
       "      <th></th>\n",
       "      <th>LT</th>\n",
       "      <th>TEC</th>\n",
       "    </tr>\n",
       "  </thead>\n",
       "  <tbody>\n",
       "    <tr>\n",
       "      <th>0</th>\n",
       "      <td>5.311333</td>\n",
       "      <td>2.067562</td>\n",
       "    </tr>\n",
       "    <tr>\n",
       "      <th>1</th>\n",
       "      <td>5.344670</td>\n",
       "      <td>2.082707</td>\n",
       "    </tr>\n",
       "    <tr>\n",
       "      <th>2</th>\n",
       "      <td>5.378006</td>\n",
       "      <td>2.004272</td>\n",
       "    </tr>\n",
       "    <tr>\n",
       "      <th>3</th>\n",
       "      <td>5.411343</td>\n",
       "      <td>1.736569</td>\n",
       "    </tr>\n",
       "    <tr>\n",
       "      <th>4</th>\n",
       "      <td>5.444679</td>\n",
       "      <td>1.758503</td>\n",
       "    </tr>\n",
       "  </tbody>\n",
       "</table>\n",
       "</div>"
      ],
      "text/plain": [
       "         LT       TEC\n",
       "0  5.311333  2.067562\n",
       "1  5.344670  2.082707\n",
       "2  5.378006  2.004272\n",
       "3  5.411343  1.736569\n",
       "4  5.444679  1.758503"
      ]
     },
     "execution_count": 4,
     "metadata": {},
     "output_type": "execute_result"
    }
   ],
   "source": [
    "df.drop([\"Date\",\"Month\",\"Year\",\"Time\"], inplace = True, axis = 1)\n",
    "df.head()"
   ]
  },
  {
   "cell_type": "code",
   "execution_count": 5,
   "metadata": {
    "colab": {},
    "colab_type": "code",
    "id": "cSR_4BuWZyxX"
   },
   "outputs": [],
   "source": [
    "train = df[:-1440]\n",
    "test = df[-1440:]\n",
    "train.to_csv(\"train.csv\")\n",
    "test.to_csv(\"test.csv\")"
   ]
  },
  {
   "cell_type": "code",
   "execution_count": 6,
   "metadata": {
    "colab": {},
    "colab_type": "code",
    "id": "Kh3bXodJattU"
   },
   "outputs": [],
   "source": [
    "train = pd.read_csv(\"train.csv\")\n",
    "test = pd.read_csv(\"test.csv\")\n",
    "train_tec = train.TEC.values\n",
    "train_tec = train_tec.reshape((-1,1))\n",
    "tec_train = train_tec\n",
    "# train = train.values.reshape((-1,1))\n",
    "# tec_train = train.TEC"
   ]
  },
  {
   "cell_type": "code",
   "execution_count": 7,
   "metadata": {
    "colab": {},
    "colab_type": "code",
    "id": "m8T9-ikFbKQd"
   },
   "outputs": [],
   "source": [
    "test_tec = test.TEC.values\n",
    "test_tec = test_tec.reshape((-1,1))\n",
    "tec_test = test_tec"
   ]
  },
  {
   "cell_type": "code",
   "execution_count": 8,
   "metadata": {
    "colab": {
     "base_uri": "https://localhost:8080/",
     "height": 51
    },
    "colab_type": "code",
    "id": "C2g3ovd3-si3",
    "outputId": "596eb4e4-7f72-4897-d22d-b0a97d3ae0d8"
   },
   "outputs": [
    {
     "name": "stdout",
     "output_type": "stream",
     "text": [
      "12960\n",
      "1440\n"
     ]
    }
   ],
   "source": [
    "# tec_vals = df['TEC'].values\n",
    "# tec_vals = tec_vals.reshape((-1,1))\n",
    "\n",
    "# tec_train = tec_vals[:-2880]\n",
    "# tec_test = tec_vals[-2880:]\n",
    "\n",
    "lt_train = train['LT']\n",
    "lt_test = test['LT']\n",
    "\n",
    "print(len(tec_train))\n",
    "print(len(tec_test))"
   ]
  },
  {
   "cell_type": "code",
   "execution_count": 9,
   "metadata": {
    "colab": {
     "base_uri": "https://localhost:8080/",
     "height": 34
    },
    "colab_type": "code",
    "id": "MQyWeqNpDSNH",
    "outputId": "d859c317-7941-4bda-9bbc-34a1881ed2cc"
   },
   "outputs": [
    {
     "data": {
      "text/plain": [
       "12960"
      ]
     },
     "execution_count": 9,
     "metadata": {},
     "output_type": "execute_result"
    }
   ],
   "source": [
    "tec_train.size"
   ]
  },
  {
   "cell_type": "code",
   "execution_count": 10,
   "metadata": {
    "colab": {
     "base_uri": "https://localhost:8080/",
     "height": 34
    },
    "colab_type": "code",
    "id": "iHjsVczRDVUD",
    "outputId": "273d33a7-0286-4213-fdfa-9b98aedfd5c6"
   },
   "outputs": [
    {
     "data": {
      "text/plain": [
       "1440"
      ]
     },
     "execution_count": 10,
     "metadata": {},
     "output_type": "execute_result"
    }
   ],
   "source": [
    "tec_test.size"
   ]
  },
  {
   "cell_type": "code",
   "execution_count": 11,
   "metadata": {
    "colab": {},
    "colab_type": "code",
    "id": "_3Eb_oOaDhpx"
   },
   "outputs": [],
   "source": [
    "look_back = 15\n",
    "\n",
    "train_generator = TimeseriesGenerator(tec_train, tec_train, length=look_back, batch_size=20)     \n",
    "test_generator = TimeseriesGenerator(tec_test, tec_test, length=look_back, batch_size=1)"
   ]
  },
  {
   "cell_type": "code",
   "execution_count": 12,
   "metadata": {
    "colab": {
     "base_uri": "https://localhost:8080/",
     "height": 884
    },
    "colab_type": "code",
    "id": "eoDXpMiFD8mq",
    "outputId": "a912dde6-4a63-45b6-fd70-7e376947dca9"
   },
   "outputs": [
    {
     "name": "stdout",
     "output_type": "stream",
     "text": [
      "Epoch 1/25\n",
      "648/648 [==============================] - 16s 25ms/step - loss: 1.7283\n",
      "Epoch 2/25\n",
      "648/648 [==============================] - 17s 26ms/step - loss: 0.5260\n",
      "Epoch 3/25\n",
      "648/648 [==============================] - 16s 25ms/step - loss: 0.3528\n",
      "Epoch 4/25\n",
      "648/648 [==============================] - 16s 24ms/step - loss: 0.2586\n",
      "Epoch 5/25\n",
      "648/648 [==============================] - 16s 24ms/step - loss: 0.1794\n",
      "Epoch 6/25\n",
      "648/648 [==============================] - 15s 23ms/step - loss: 0.1136\n",
      "Epoch 7/25\n",
      "648/648 [==============================] - 15s 23ms/step - loss: 0.1138\n",
      "Epoch 8/25\n",
      "648/648 [==============================] - 16s 24ms/step - loss: 0.1135\n",
      "Epoch 9/25\n",
      "648/648 [==============================] - 17s 26ms/step - loss: 0.0818\n",
      "Epoch 10/25\n",
      "648/648 [==============================] - 16s 25ms/step - loss: 0.0972\n",
      "Epoch 11/25\n",
      "648/648 [==============================] - 16s 24ms/step - loss: 0.0893\n",
      "Epoch 12/25\n",
      "648/648 [==============================] - 16s 25ms/step - loss: 0.0889\n",
      "Epoch 13/25\n",
      "648/648 [==============================] - 16s 25ms/step - loss: 0.1016\n",
      "Epoch 14/25\n",
      "648/648 [==============================] - 16s 25ms/step - loss: 0.0838\n",
      "Epoch 15/25\n",
      "648/648 [==============================] - 16s 25ms/step - loss: 0.1048\n",
      "Epoch 16/25\n",
      "648/648 [==============================] - 16s 25ms/step - loss: 0.0994\n",
      "Epoch 17/25\n",
      "648/648 [==============================] - 17s 25ms/step - loss: 0.0795\n",
      "Epoch 18/25\n",
      "648/648 [==============================] - 16s 25ms/step - loss: 0.1035\n",
      "Epoch 19/25\n",
      "648/648 [==============================] - 15s 23ms/step - loss: 0.0758\n",
      "Epoch 20/25\n",
      "648/648 [==============================] - 16s 25ms/step - loss: 0.0762\n",
      "Epoch 21/25\n",
      "648/648 [==============================] - 17s 26ms/step - loss: 0.0867\n",
      "Epoch 22/25\n",
      "648/648 [==============================] - 17s 26ms/step - loss: 0.0842\n",
      "Epoch 23/25\n",
      "648/648 [==============================] - 17s 26ms/step - loss: 0.0718\n",
      "Epoch 24/25\n",
      "648/648 [==============================] - 17s 26ms/step - loss: 0.0795\n",
      "Epoch 25/25\n",
      "648/648 [==============================] - 17s 26ms/step - loss: 0.0711\n"
     ]
    },
    {
     "data": {
      "text/plain": [
       "<keras.callbacks.callbacks.History at 0x2420fe1e9c8>"
      ]
     },
     "execution_count": 12,
     "metadata": {},
     "output_type": "execute_result"
    }
   ],
   "source": [
    "from keras.models import Sequential\n",
    "from keras.layers import LSTM, Dense\n",
    "\n",
    "model = Sequential()\n",
    "model.add(\n",
    "    LSTM(10,\n",
    "        activation='relu',\n",
    "        input_shape=(look_back,1))\n",
    ")\n",
    "model.add(Dense(1))\n",
    "model.compile(optimizer='adam', loss='mse')\n",
    "\n",
    "num_epochs = 25\n",
    "model.fit_generator(train_generator, epochs=num_epochs, verbose=1)"
   ]
  },
  {
   "cell_type": "markdown",
   "metadata": {
    "colab": {
     "base_uri": "https://localhost:8080/",
     "height": 295
    },
    "colab_type": "code",
    "id": "iX9wOOlCEE4l",
    "outputId": "1294c319-ee6e-4eb3-d278-93ba3eee0cca"
   },
   "source": [
    "prediction = model.predict_generator(test_generator)\n",
    "\n",
    "tec_train = tec_train.reshape((-1))\n",
    "tec_test = tec_test.reshape((-1))\n",
    "prediction = prediction.reshape((-1))\n",
    "\n",
    "plt.plot(tec_test, label='Actual')\n",
    "plt.plot(prediction, label='Predicted')\n",
    "plt.title(\"LSTM's_Prediction\")\n",
    "plt.xlabel('Observation')\n",
    "plt.ylabel('TEC')\n",
    "plt.legend()\n",
    "plt.show()"
   ]
  },
  {
   "cell_type": "code",
   "execution_count": null,
   "metadata": {},
   "outputs": [],
   "source": [
    "res"
   ]
  },
  {
   "cell_type": "code",
   "execution_count": 124,
   "metadata": {
    "colab": {
     "base_uri": "https://localhost:8080/",
     "height": 375
    },
    "colab_type": "code",
    "id": "m5TffHHVFmos",
    "outputId": "d020bb8c-94b8-4a8a-80ae-adbaaa13c436"
   },
   "outputs": [
    {
     "ename": "ValueError",
     "evalue": "ignored",
     "output_type": "error",
     "traceback": [
      "\u001b[0;31m---------------------------------------------------------------------------\u001b[0m",
      "\u001b[0;31mValueError\u001b[0m                                Traceback (most recent call last)",
      "\u001b[0;32m<ipython-input-124-bed5f578b66c>\u001b[0m in \u001b[0;36m<module>\u001b[0;34m()\u001b[0m\n\u001b[1;32m      2\u001b[0m \u001b[0;32mfrom\u001b[0m \u001b[0mmath\u001b[0m \u001b[0;32mimport\u001b[0m \u001b[0msqrt\u001b[0m\u001b[0;34m\u001b[0m\u001b[0;34m\u001b[0m\u001b[0m\n\u001b[1;32m      3\u001b[0m \u001b[0;34m\u001b[0m\u001b[0m\n\u001b[0;32m----> 4\u001b[0;31m \u001b[0mrms\u001b[0m \u001b[0;34m=\u001b[0m \u001b[0msqrt\u001b[0m\u001b[0;34m(\u001b[0m\u001b[0mmean_squared_error\u001b[0m\u001b[0;34m(\u001b[0m\u001b[0mtec_test\u001b[0m\u001b[0;34m,\u001b[0m \u001b[0mprediction\u001b[0m\u001b[0;34m)\u001b[0m\u001b[0;34m)\u001b[0m\u001b[0;34m\u001b[0m\u001b[0;34m\u001b[0m\u001b[0m\n\u001b[0m\u001b[1;32m      5\u001b[0m \u001b[0;34m\u001b[0m\u001b[0m\n\u001b[1;32m      6\u001b[0m \u001b[0mrms\u001b[0m\u001b[0;34m\u001b[0m\u001b[0;34m\u001b[0m\u001b[0m\n",
      "\u001b[0;32m/usr/local/lib/python3.6/dist-packages/sklearn/metrics/_regression.py\u001b[0m in \u001b[0;36mmean_squared_error\u001b[0;34m(y_true, y_pred, sample_weight, multioutput, squared)\u001b[0m\n\u001b[1;32m    250\u001b[0m     \"\"\"\n\u001b[1;32m    251\u001b[0m     y_type, y_true, y_pred, multioutput = _check_reg_targets(\n\u001b[0;32m--> 252\u001b[0;31m         y_true, y_pred, multioutput)\n\u001b[0m\u001b[1;32m    253\u001b[0m     \u001b[0mcheck_consistent_length\u001b[0m\u001b[0;34m(\u001b[0m\u001b[0my_true\u001b[0m\u001b[0;34m,\u001b[0m \u001b[0my_pred\u001b[0m\u001b[0;34m,\u001b[0m \u001b[0msample_weight\u001b[0m\u001b[0;34m)\u001b[0m\u001b[0;34m\u001b[0m\u001b[0;34m\u001b[0m\u001b[0m\n\u001b[1;32m    254\u001b[0m     output_errors = np.average((y_true - y_pred) ** 2, axis=0,\n",
      "\u001b[0;32m/usr/local/lib/python3.6/dist-packages/sklearn/metrics/_regression.py\u001b[0m in \u001b[0;36m_check_reg_targets\u001b[0;34m(y_true, y_pred, multioutput, dtype)\u001b[0m\n\u001b[1;32m     82\u001b[0m \u001b[0;34m\u001b[0m\u001b[0m\n\u001b[1;32m     83\u001b[0m     \"\"\"\n\u001b[0;32m---> 84\u001b[0;31m     \u001b[0mcheck_consistent_length\u001b[0m\u001b[0;34m(\u001b[0m\u001b[0my_true\u001b[0m\u001b[0;34m,\u001b[0m \u001b[0my_pred\u001b[0m\u001b[0;34m)\u001b[0m\u001b[0;34m\u001b[0m\u001b[0;34m\u001b[0m\u001b[0m\n\u001b[0m\u001b[1;32m     85\u001b[0m     \u001b[0my_true\u001b[0m \u001b[0;34m=\u001b[0m \u001b[0mcheck_array\u001b[0m\u001b[0;34m(\u001b[0m\u001b[0my_true\u001b[0m\u001b[0;34m,\u001b[0m \u001b[0mensure_2d\u001b[0m\u001b[0;34m=\u001b[0m\u001b[0;32mFalse\u001b[0m\u001b[0;34m,\u001b[0m \u001b[0mdtype\u001b[0m\u001b[0;34m=\u001b[0m\u001b[0mdtype\u001b[0m\u001b[0;34m)\u001b[0m\u001b[0;34m\u001b[0m\u001b[0;34m\u001b[0m\u001b[0m\n\u001b[1;32m     86\u001b[0m     \u001b[0my_pred\u001b[0m \u001b[0;34m=\u001b[0m \u001b[0mcheck_array\u001b[0m\u001b[0;34m(\u001b[0m\u001b[0my_pred\u001b[0m\u001b[0;34m,\u001b[0m \u001b[0mensure_2d\u001b[0m\u001b[0;34m=\u001b[0m\u001b[0;32mFalse\u001b[0m\u001b[0;34m,\u001b[0m \u001b[0mdtype\u001b[0m\u001b[0;34m=\u001b[0m\u001b[0mdtype\u001b[0m\u001b[0;34m)\u001b[0m\u001b[0;34m\u001b[0m\u001b[0;34m\u001b[0m\u001b[0m\n",
      "\u001b[0;32m/usr/local/lib/python3.6/dist-packages/sklearn/utils/validation.py\u001b[0m in \u001b[0;36mcheck_consistent_length\u001b[0;34m(*arrays)\u001b[0m\n\u001b[1;32m    210\u001b[0m     \u001b[0;32mif\u001b[0m \u001b[0mlen\u001b[0m\u001b[0;34m(\u001b[0m\u001b[0muniques\u001b[0m\u001b[0;34m)\u001b[0m \u001b[0;34m>\u001b[0m \u001b[0;36m1\u001b[0m\u001b[0;34m:\u001b[0m\u001b[0;34m\u001b[0m\u001b[0;34m\u001b[0m\u001b[0m\n\u001b[1;32m    211\u001b[0m         raise ValueError(\"Found input variables with inconsistent numbers of\"\n\u001b[0;32m--> 212\u001b[0;31m                          \" samples: %r\" % [int(l) for l in lengths])\n\u001b[0m\u001b[1;32m    213\u001b[0m \u001b[0;34m\u001b[0m\u001b[0m\n\u001b[1;32m    214\u001b[0m \u001b[0;34m\u001b[0m\u001b[0m\n",
      "\u001b[0;31mValueError\u001b[0m: Found input variables with inconsistent numbers of samples: [1440, 1425]"
     ]
    }
   ],
   "source": [
    "from sklearn.metrics import mean_squared_error\n",
    "from math import sqrt\n",
    "\n",
    "rms = sqrt(mean_squared_error(tec_test, prediction))\n",
    "\n",
    "rms"
   ]
  },
  {
   "cell_type": "code",
   "execution_count": 15,
   "metadata": {
    "colab": {},
    "colab_type": "code",
    "id": "SE62VZfcHG3E"
   },
   "outputs": [],
   "source": [
    "res = pd.DataFrame(tec_test[:1425], prediction)"
   ]
  },
  {
   "cell_type": "code",
   "execution_count": 17,
   "metadata": {
    "colab": {},
    "colab_type": "code",
    "id": "5Uz70HCII5TF"
   },
   "outputs": [
    {
     "data": {
      "text/html": [
       "<div>\n",
       "<style scoped>\n",
       "    .dataframe tbody tr th:only-of-type {\n",
       "        vertical-align: middle;\n",
       "    }\n",
       "\n",
       "    .dataframe tbody tr th {\n",
       "        vertical-align: top;\n",
       "    }\n",
       "\n",
       "    .dataframe thead th {\n",
       "        text-align: right;\n",
       "    }\n",
       "</style>\n",
       "<table border=\"1\" class=\"dataframe\">\n",
       "  <thead>\n",
       "    <tr style=\"text-align: right;\">\n",
       "      <th></th>\n",
       "      <th>0</th>\n",
       "    </tr>\n",
       "  </thead>\n",
       "  <tbody>\n",
       "    <tr>\n",
       "      <th>3.758951</th>\n",
       "      <td>2.192221</td>\n",
       "    </tr>\n",
       "    <tr>\n",
       "      <th>3.666481</th>\n",
       "      <td>2.208907</td>\n",
       "    </tr>\n",
       "    <tr>\n",
       "      <th>4.079441</th>\n",
       "      <td>2.572185</td>\n",
       "    </tr>\n",
       "    <tr>\n",
       "      <th>4.627974</th>\n",
       "      <td>2.812540</td>\n",
       "    </tr>\n",
       "    <tr>\n",
       "      <th>5.032678</th>\n",
       "      <td>2.892568</td>\n",
       "    </tr>\n",
       "    <tr>\n",
       "      <th>4.981465</th>\n",
       "      <td>3.197028</td>\n",
       "    </tr>\n",
       "    <tr>\n",
       "      <th>4.781513</th>\n",
       "      <td>3.051936</td>\n",
       "    </tr>\n",
       "    <tr>\n",
       "      <th>5.244559</th>\n",
       "      <td>3.228546</td>\n",
       "    </tr>\n",
       "    <tr>\n",
       "      <th>5.422810</th>\n",
       "      <td>3.124095</td>\n",
       "    </tr>\n",
       "    <tr>\n",
       "      <th>5.618537</th>\n",
       "      <td>3.164987</td>\n",
       "    </tr>\n",
       "    <tr>\n",
       "      <th>5.201099</th>\n",
       "      <td>3.703153</td>\n",
       "    </tr>\n",
       "    <tr>\n",
       "      <th>5.314282</th>\n",
       "      <td>3.954279</td>\n",
       "    </tr>\n",
       "    <tr>\n",
       "      <th>5.341702</th>\n",
       "      <td>3.910851</td>\n",
       "    </tr>\n",
       "    <tr>\n",
       "      <th>5.484499</th>\n",
       "      <td>3.727880</td>\n",
       "    </tr>\n",
       "    <tr>\n",
       "      <th>5.380787</th>\n",
       "      <td>3.563209</td>\n",
       "    </tr>\n",
       "    <tr>\n",
       "      <th>5.478566</th>\n",
       "      <td>3.495994</td>\n",
       "    </tr>\n",
       "    <tr>\n",
       "      <th>5.748065</th>\n",
       "      <td>3.934856</td>\n",
       "    </tr>\n",
       "    <tr>\n",
       "      <th>6.007235</th>\n",
       "      <td>4.503819</td>\n",
       "    </tr>\n",
       "    <tr>\n",
       "      <th>6.088465</th>\n",
       "      <td>4.905852</td>\n",
       "    </tr>\n",
       "    <tr>\n",
       "      <th>6.119172</th>\n",
       "      <td>4.828799</td>\n",
       "    </tr>\n",
       "    <tr>\n",
       "      <th>6.176038</th>\n",
       "      <td>4.595514</td>\n",
       "    </tr>\n",
       "    <tr>\n",
       "      <th>6.441998</th>\n",
       "      <td>5.032231</td>\n",
       "    </tr>\n",
       "    <tr>\n",
       "      <th>6.627424</th>\n",
       "      <td>5.241172</td>\n",
       "    </tr>\n",
       "    <tr>\n",
       "      <th>7.025296</th>\n",
       "      <td>5.438227</td>\n",
       "    </tr>\n",
       "    <tr>\n",
       "      <th>6.852664</th>\n",
       "      <td>5.042123</td>\n",
       "    </tr>\n",
       "    <tr>\n",
       "      <th>7.231969</th>\n",
       "      <td>5.128713</td>\n",
       "    </tr>\n",
       "    <tr>\n",
       "      <th>7.372452</th>\n",
       "      <td>5.171290</td>\n",
       "    </tr>\n",
       "    <tr>\n",
       "      <th>7.927531</th>\n",
       "      <td>5.328676</td>\n",
       "    </tr>\n",
       "    <tr>\n",
       "      <th>7.703719</th>\n",
       "      <td>5.247363</td>\n",
       "    </tr>\n",
       "    <tr>\n",
       "      <th>7.711136</th>\n",
       "      <td>5.350130</td>\n",
       "    </tr>\n",
       "  </tbody>\n",
       "</table>\n",
       "</div>"
      ],
      "text/plain": [
       "                 0\n",
       "3.758951  2.192221\n",
       "3.666481  2.208907\n",
       "4.079441  2.572185\n",
       "4.627974  2.812540\n",
       "5.032678  2.892568\n",
       "4.981465  3.197028\n",
       "4.781513  3.051936\n",
       "5.244559  3.228546\n",
       "5.422810  3.124095\n",
       "5.618537  3.164987\n",
       "5.201099  3.703153\n",
       "5.314282  3.954279\n",
       "5.341702  3.910851\n",
       "5.484499  3.727880\n",
       "5.380787  3.563209\n",
       "5.478566  3.495994\n",
       "5.748065  3.934856\n",
       "6.007235  4.503819\n",
       "6.088465  4.905852\n",
       "6.119172  4.828799\n",
       "6.176038  4.595514\n",
       "6.441998  5.032231\n",
       "6.627424  5.241172\n",
       "7.025296  5.438227\n",
       "6.852664  5.042123\n",
       "7.231969  5.128713\n",
       "7.372452  5.171290\n",
       "7.927531  5.328676\n",
       "7.703719  5.247363\n",
       "7.711136  5.350130"
      ]
     },
     "execution_count": 17,
     "metadata": {},
     "output_type": "execute_result"
    }
   ],
   "source": [
    "res.head(30)"
   ]
  },
  {
   "cell_type": "code",
   "execution_count": 0,
   "metadata": {
    "colab": {},
    "colab_type": "code",
    "id": "bSdZnwK_I6xJ"
   },
   "outputs": [],
   "source": []
  }
 ],
 "metadata": {
  "colab": {
   "name": "keras_lstm_2.ipynb",
   "provenance": []
  },
  "kernelspec": {
   "display_name": "Python 3",
   "language": "python",
   "name": "python3"
  },
  "language_info": {
   "codemirror_mode": {
    "name": "ipython",
    "version": 3
   },
   "file_extension": ".py",
   "mimetype": "text/x-python",
   "name": "python",
   "nbconvert_exporter": "python",
   "pygments_lexer": "ipython3",
   "version": "3.7.6"
  }
 },
 "nbformat": 4,
 "nbformat_minor": 1
}
