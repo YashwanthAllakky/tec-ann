{
  "nbformat": 4,
  "nbformat_minor": 0,
  "metadata": {
    "colab": {
      "name": "lstm.ipynb",
      "provenance": [],
      "collapsed_sections": [],
      "toc_visible": true
    },
    "kernelspec": {
      "name": "python3",
      "display_name": "Python 3"
    },
    "accelerator": "TPU"
  },
  "cells": [
    {
      "cell_type": "code",
      "metadata": {
        "id": "lkbISZoNSYQx",
        "colab_type": "code",
        "colab": {}
      },
      "source": [
        "import pandas as pd\n",
        "import numpy as np\n",
        "%matplotlib inline\n",
        "import matplotlib.pyplot as plt\n",
        "\n",
        "from sklearn.preprocessing import MinMaxScaler\n",
        "from sklearn.metrics import r2_score\n",
        "\n",
        "def adj_r2_score(r2, n, k):\n",
        "    return 1-((1-r2)*((n-1)/(n-k-1)))"
      ],
      "execution_count": 0,
      "outputs": []
    },
    {
      "cell_type": "code",
      "metadata": {
        "id": "4KlaiwrmS0rl",
        "colab_type": "code",
        "colab": {}
      },
      "source": [
        "data_frame = pd.read_csv(\"Train_TEC_mar17.csv\")"
      ],
      "execution_count": 0,
      "outputs": []
    },
    {
      "cell_type": "code",
      "metadata": {
        "id": "pwWopWUCUeX3",
        "colab_type": "code",
        "outputId": "e6e39735-fa16-4376-b102-8679a53c7f2b",
        "colab": {
          "base_uri": "https://localhost:8080/",
          "height": 204
        }
      },
      "source": [
        "data_frame.head()"
      ],
      "execution_count": 3,
      "outputs": [
        {
          "output_type": "execute_result",
          "data": {
            "text/html": [
              "<div>\n",
              "<style scoped>\n",
              "    .dataframe tbody tr th:only-of-type {\n",
              "        vertical-align: middle;\n",
              "    }\n",
              "\n",
              "    .dataframe tbody tr th {\n",
              "        vertical-align: top;\n",
              "    }\n",
              "\n",
              "    .dataframe thead th {\n",
              "        text-align: right;\n",
              "    }\n",
              "</style>\n",
              "<table border=\"1\" class=\"dataframe\">\n",
              "  <thead>\n",
              "    <tr style=\"text-align: right;\">\n",
              "      <th></th>\n",
              "      <th>Date</th>\n",
              "      <th>Month</th>\n",
              "      <th>Year</th>\n",
              "      <th>Time</th>\n",
              "      <th>LT</th>\n",
              "      <th>TEC</th>\n",
              "    </tr>\n",
              "  </thead>\n",
              "  <tbody>\n",
              "    <tr>\n",
              "      <th>0</th>\n",
              "      <td>1</td>\n",
              "      <td>3</td>\n",
              "      <td>2017</td>\n",
              "      <td>0.016389</td>\n",
              "      <td>5.311333</td>\n",
              "      <td>2.067562</td>\n",
              "    </tr>\n",
              "    <tr>\n",
              "      <th>1</th>\n",
              "      <td>1</td>\n",
              "      <td>3</td>\n",
              "      <td>2017</td>\n",
              "      <td>0.049722</td>\n",
              "      <td>5.344670</td>\n",
              "      <td>2.082707</td>\n",
              "    </tr>\n",
              "    <tr>\n",
              "      <th>2</th>\n",
              "      <td>1</td>\n",
              "      <td>3</td>\n",
              "      <td>2017</td>\n",
              "      <td>0.083056</td>\n",
              "      <td>5.378006</td>\n",
              "      <td>2.004272</td>\n",
              "    </tr>\n",
              "    <tr>\n",
              "      <th>3</th>\n",
              "      <td>1</td>\n",
              "      <td>3</td>\n",
              "      <td>2017</td>\n",
              "      <td>0.116389</td>\n",
              "      <td>5.411343</td>\n",
              "      <td>1.736569</td>\n",
              "    </tr>\n",
              "    <tr>\n",
              "      <th>4</th>\n",
              "      <td>1</td>\n",
              "      <td>3</td>\n",
              "      <td>2017</td>\n",
              "      <td>0.149722</td>\n",
              "      <td>5.444679</td>\n",
              "      <td>1.758503</td>\n",
              "    </tr>\n",
              "  </tbody>\n",
              "</table>\n",
              "</div>"
            ],
            "text/plain": [
              "   Date  Month  Year      Time        LT       TEC\n",
              "0     1      3  2017  0.016389  5.311333  2.067562\n",
              "1     1      3  2017  0.049722  5.344670  2.082707\n",
              "2     1      3  2017  0.083056  5.378006  2.004272\n",
              "3     1      3  2017  0.116389  5.411343  1.736569\n",
              "4     1      3  2017  0.149722  5.444679  1.758503"
            ]
          },
          "metadata": {
            "tags": []
          },
          "execution_count": 3
        }
      ]
    },
    {
      "cell_type": "code",
      "metadata": {
        "id": "Z8cvp5F5Ufvo",
        "colab_type": "code",
        "colab": {}
      },
      "source": [
        "data_frame.drop([\"Date\", \"Month\", \"Year\", \"Time\"], axis = 1, inplace = True)"
      ],
      "execution_count": 0,
      "outputs": []
    },
    {
      "cell_type": "code",
      "metadata": {
        "id": "jggkjg6LUnnJ",
        "colab_type": "code",
        "outputId": "9a11ed09-a9c0-4204-8b2e-911ce8c821ba",
        "colab": {
          "base_uri": "https://localhost:8080/",
          "height": 204
        }
      },
      "source": [
        "data_frame.head()"
      ],
      "execution_count": 5,
      "outputs": [
        {
          "output_type": "execute_result",
          "data": {
            "text/html": [
              "<div>\n",
              "<style scoped>\n",
              "    .dataframe tbody tr th:only-of-type {\n",
              "        vertical-align: middle;\n",
              "    }\n",
              "\n",
              "    .dataframe tbody tr th {\n",
              "        vertical-align: top;\n",
              "    }\n",
              "\n",
              "    .dataframe thead th {\n",
              "        text-align: right;\n",
              "    }\n",
              "</style>\n",
              "<table border=\"1\" class=\"dataframe\">\n",
              "  <thead>\n",
              "    <tr style=\"text-align: right;\">\n",
              "      <th></th>\n",
              "      <th>LT</th>\n",
              "      <th>TEC</th>\n",
              "    </tr>\n",
              "  </thead>\n",
              "  <tbody>\n",
              "    <tr>\n",
              "      <th>0</th>\n",
              "      <td>5.311333</td>\n",
              "      <td>2.067562</td>\n",
              "    </tr>\n",
              "    <tr>\n",
              "      <th>1</th>\n",
              "      <td>5.344670</td>\n",
              "      <td>2.082707</td>\n",
              "    </tr>\n",
              "    <tr>\n",
              "      <th>2</th>\n",
              "      <td>5.378006</td>\n",
              "      <td>2.004272</td>\n",
              "    </tr>\n",
              "    <tr>\n",
              "      <th>3</th>\n",
              "      <td>5.411343</td>\n",
              "      <td>1.736569</td>\n",
              "    </tr>\n",
              "    <tr>\n",
              "      <th>4</th>\n",
              "      <td>5.444679</td>\n",
              "      <td>1.758503</td>\n",
              "    </tr>\n",
              "  </tbody>\n",
              "</table>\n",
              "</div>"
            ],
            "text/plain": [
              "         LT       TEC\n",
              "0  5.311333  2.067562\n",
              "1  5.344670  2.082707\n",
              "2  5.378006  2.004272\n",
              "3  5.411343  1.736569\n",
              "4  5.444679  1.758503"
            ]
          },
          "metadata": {
            "tags": []
          },
          "execution_count": 5
        }
      ]
    },
    {
      "cell_type": "code",
      "metadata": {
        "id": "a3J4XjAaUrNw",
        "colab_type": "code",
        "colab": {}
      },
      "source": [
        "df = pd.DataFrame(data_frame[\"TEC\"])"
      ],
      "execution_count": 0,
      "outputs": []
    },
    {
      "cell_type": "code",
      "metadata": {
        "id": "sMNXRPRgU3eA",
        "colab_type": "code",
        "outputId": "a01048e1-2151-4f6d-981d-3bf6002c4618",
        "colab": {
          "base_uri": "https://localhost:8080/",
          "height": 204
        }
      },
      "source": [
        "df.head()"
      ],
      "execution_count": 7,
      "outputs": [
        {
          "output_type": "execute_result",
          "data": {
            "text/html": [
              "<div>\n",
              "<style scoped>\n",
              "    .dataframe tbody tr th:only-of-type {\n",
              "        vertical-align: middle;\n",
              "    }\n",
              "\n",
              "    .dataframe tbody tr th {\n",
              "        vertical-align: top;\n",
              "    }\n",
              "\n",
              "    .dataframe thead th {\n",
              "        text-align: right;\n",
              "    }\n",
              "</style>\n",
              "<table border=\"1\" class=\"dataframe\">\n",
              "  <thead>\n",
              "    <tr style=\"text-align: right;\">\n",
              "      <th></th>\n",
              "      <th>TEC</th>\n",
              "    </tr>\n",
              "  </thead>\n",
              "  <tbody>\n",
              "    <tr>\n",
              "      <th>0</th>\n",
              "      <td>2.067562</td>\n",
              "    </tr>\n",
              "    <tr>\n",
              "      <th>1</th>\n",
              "      <td>2.082707</td>\n",
              "    </tr>\n",
              "    <tr>\n",
              "      <th>2</th>\n",
              "      <td>2.004272</td>\n",
              "    </tr>\n",
              "    <tr>\n",
              "      <th>3</th>\n",
              "      <td>1.736569</td>\n",
              "    </tr>\n",
              "    <tr>\n",
              "      <th>4</th>\n",
              "      <td>1.758503</td>\n",
              "    </tr>\n",
              "  </tbody>\n",
              "</table>\n",
              "</div>"
            ],
            "text/plain": [
              "        TEC\n",
              "0  2.067562\n",
              "1  2.082707\n",
              "2  2.004272\n",
              "3  1.736569\n",
              "4  1.758503"
            ]
          },
          "metadata": {
            "tags": []
          },
          "execution_count": 7
        }
      ]
    },
    {
      "cell_type": "code",
      "metadata": {
        "id": "sW2WeiVPU4Ud",
        "colab_type": "code",
        "outputId": "9eb7520c-bc98-47b4-a2e6-045b59aea98d",
        "colab": {
          "base_uri": "https://localhost:8080/",
          "height": 282
        }
      },
      "source": [
        "df.plot()"
      ],
      "execution_count": 8,
      "outputs": [
        {
          "output_type": "execute_result",
          "data": {
            "text/plain": [
              "<matplotlib.axes._subplots.AxesSubplot at 0x7f4177155828>"
            ]
          },
          "metadata": {
            "tags": []
          },
          "execution_count": 8
        },
        {
          "output_type": "display_data",
          "data": {
            "image/png": "[encoded data removed]",
            "text/plain": [
              "<Figure size 432x288 with 1 Axes>"
            ]
          },
          "metadata": {
            "tags": []
          }
        }
      ]
    },
    {
      "cell_type": "code",
      "metadata": {
        "id": "lxxClK3gU6yc",
        "colab_type": "code",
        "outputId": "f42d65ef-3654-4950-90c9-e5bd92fff2a0",
        "colab": {
          "base_uri": "https://localhost:8080/",
          "height": 34
        }
      },
      "source": [
        "train = df[:-1440]\n",
        "test = df[-1440:]\n",
        "train.shape, test.shape"
      ],
      "execution_count": 9,
      "outputs": [
        {
          "output_type": "execute_result",
          "data": {
            "text/plain": [
              "((12960, 1), (1440, 1))"
            ]
          },
          "metadata": {
            "tags": []
          },
          "execution_count": 9
        }
      ]
    },
    {
      "cell_type": "code",
      "metadata": {
        "id": "FKUBcHgPVCTC",
        "colab_type": "code",
        "outputId": "d8533aba-00e5-435f-deef-12e0dc36ecc9",
        "colab": {
          "base_uri": "https://localhost:8080/",
          "height": 282
        }
      },
      "source": [
        "ax = train.plot()\n",
        "test.plot(ax=ax)\n",
        "plt.legend(['train', 'test'])"
      ],
      "execution_count": 10,
      "outputs": [
        {
          "output_type": "execute_result",
          "data": {
            "text/plain": [
              "<matplotlib.legend.Legend at 0x7f41770fc4a8>"
            ]
          },
          "metadata": {
            "tags": []
          },
          "execution_count": 10
        },
        {
          "output_type": "display_data",
          "data": {
            "image/png": "[encoded data removed]",
            "text/plain": [
              "<Figure size 432x288 with 1 Axes>"
            ]
          },
          "metadata": {
            "tags": []
          }
        }
      ]
    },
    {
      "cell_type": "code",
      "metadata": {
        "id": "tqxgvFoTVHxs",
        "colab_type": "code",
        "colab": {}
      },
      "source": [
        "sc = MinMaxScaler()\n",
        "train_sc = sc.fit_transform(train)\n",
        "test_sc = sc.transform(test)"
      ],
      "execution_count": 0,
      "outputs": []
    },
    {
      "cell_type": "code",
      "metadata": {
        "id": "A6Yg9Sr9VMFr",
        "colab_type": "code",
        "outputId": "c0d98900-2655-4bfc-99e8-168a78c61ca4",
        "colab": {
          "base_uri": "https://localhost:8080/",
          "height": 136
        }
      },
      "source": [
        "train_sc"
      ],
      "execution_count": 12,
      "outputs": [
        {
          "output_type": "execute_result",
          "data": {
            "text/plain": [
              "array([[0.04266831],\n",
              "       [0.04303103],\n",
              "       [0.04115251],\n",
              "       ...,\n",
              "       [0.02035242],\n",
              "       [0.01636847],\n",
              "       [0.02202376]])"
            ]
          },
          "metadata": {
            "tags": []
          },
          "execution_count": 12
        }
      ]
    },
    {
      "cell_type": "code",
      "metadata": {
        "id": "1m7g8L0CWilQ",
        "colab_type": "code",
        "outputId": "00f0175e-f313-4665-85cc-361473cb1631",
        "colab": {
          "base_uri": "https://localhost:8080/",
          "height": 136
        }
      },
      "source": [
        "test_sc"
      ],
      "execution_count": 13,
      "outputs": [
        {
          "output_type": "execute_result",
          "data": {
            "text/plain": [
              "array([[0.04565388],\n",
              "       [0.04605349],\n",
              "       [0.05475397],\n",
              "       ...,\n",
              "       [0.02464814],\n",
              "       [0.02412893],\n",
              "       [0.03227832]])"
            ]
          },
          "metadata": {
            "tags": []
          },
          "execution_count": 13
        }
      ]
    },
    {
      "cell_type": "code",
      "metadata": {
        "id": "i7spYdm2WnLG",
        "colab_type": "code",
        "colab": {}
      },
      "source": [
        "X_train = train_sc[:-1]\n",
        "y_train = train_sc[1:]\n",
        "\n",
        "X_test = test_sc[:-1]\n",
        "y_test = test_sc[1:]"
      ],
      "execution_count": 0,
      "outputs": []
    },
    {
      "cell_type": "code",
      "metadata": {
        "id": "nF9Hbh2XWq1d",
        "colab_type": "code",
        "colab": {}
      },
      "source": [
        "X_tr_t = X_train.reshape(X_train.shape[0], 1, X_train.shape[1])\n",
        "X_tst_t = X_test.reshape(X_test.shape[0], 1, X_test.shape[1])\n"
      ],
      "execution_count": 0,
      "outputs": []
    },
    {
      "cell_type": "code",
      "metadata": {
        "id": "59iSydwhXB6O",
        "colab_type": "code",
        "colab": {
          "base_uri": "https://localhost:8080/",
          "height": 80
        },
        "outputId": "8dd0fda6-6783-412f-bd77-bc9d31850a56"
      },
      "source": [
        "from keras.models import Sequential\n",
        "from keras.layers import Dense\n",
        "import keras.backend as K\n",
        "from keras.callbacks import EarlyStopping\n",
        "from keras.optimizers import Adam\n",
        "from keras.models import load_model"
      ],
      "execution_count": 16,
      "outputs": [
        {
          "output_type": "stream",
          "text": [
            "Using TensorFlow backend.\n"
          ],
          "name": "stderr"
        },
        {
          "output_type": "display_data",
          "data": {
            "text/html": [
              "<p style=\"color: red;\">\n",
              "The default version of TensorFlow in Colab will soon switch to TensorFlow 2.x.<br>\n",
              "We recommend you <a href=\"https://www.tensorflow.org/guide/migrate\" target=\"_blank\">upgrade</a> now \n",
              "or ensure your notebook will continue to use TensorFlow 1.x via the <code>%tensorflow_version 1.x</code> magic:\n",
              "<a href=\"https://colab.research.google.com/notebooks/tensorflow_version.ipynb\" target=\"_blank\">more info</a>.</p>\n"
            ],
            "text/plain": [
              "<IPython.core.display.HTML object>"
            ]
          },
          "metadata": {
            "tags": []
          }
        }
      ]
    },
    {
      "cell_type": "code",
      "metadata": {
        "id": "T7hUaUNIW5iI",
        "colab_type": "code",
        "colab": {
          "base_uri": "https://localhost:8080/",
          "height": 1000
        },
        "outputId": "7c0cac24-6527-4326-9c50-c866bda828ef"
      },
      "source": [
        "from keras.layers import LSTM\n",
        "K.clear_session()\n",
        "model_lstm = Sequential()\n",
        "model_lstm.add(LSTM(7, input_shape=(1, X_train.shape[1]), activation='tanh', kernel_initializer='lecun_uniform', return_sequences=False))\n",
        "model_lstm.add(Dense(1))\n",
        "model_lstm.compile(loss='mean_squared_error', optimizer='adam')\n",
        "early_stop = EarlyStopping(monitor='val_loss', patience=5, verbose=1)\n",
        "history_model_lstm = model_lstm.fit(X_tr_t, y_train, epochs=50, batch_size=1, verbose=1, shuffle=False, callbacks=[early_stop])\n",
        "\n",
        "y_pred_test_lstm = model_lstm.predict(X_tst_t)\n",
        "y_train_pred_lstm = model_lstm.predict(X_tr_t)\n",
        "print(\"The R2 score on the Train set is:\\t{:0.3f}\".format(r2_score(y_train, y_train_pred_lstm)))\n",
        "r2_train = r2_score(y_train, y_train_pred_lstm)\n",
        "print(\"The Adjusted R2 score on the Train set is:\\t{:0.3f}\\n\".format(adj_r2_score(r2_train, X_train.shape[0], X_train.shape[1])))\n",
        "print(\"The R2 score on the Test set is:\\t{:0.3f}\".format(r2_score(y_test, y_pred_test_lstm)))\n",
        "r2_test = r2_score(y_test, y_pred_test_lstm)\n",
        "print(\"The Adjusted R2 score on the Test set is:\\t{:0.3f}\".format(adj_r2_score(r2_test, X_test.shape[0], X_test.shape[1])))"
      ],
      "execution_count": 17,
      "outputs": [
        {
          "output_type": "stream",
          "text": [
            "WARNING:tensorflow:From /usr/local/lib/python3.6/dist-packages/keras/backend/tensorflow_backend.py:107: The name tf.reset_default_graph is deprecated. Please use tf.compat.v1.reset_default_graph instead.\n",
            "\n",
            "WARNING:tensorflow:From /usr/local/lib/python3.6/dist-packages/keras/backend/tensorflow_backend.py:111: The name tf.placeholder_with_default is deprecated. Please use tf.compat.v1.placeholder_with_default instead.\n",
            "\n",
            "WARNING:tensorflow:From /usr/local/lib/python3.6/dist-packages/keras/backend/tensorflow_backend.py:66: The name tf.get_default_graph is deprecated. Please use tf.compat.v1.get_default_graph instead.\n",
            "\n",
            "WARNING:tensorflow:From /usr/local/lib/python3.6/dist-packages/keras/backend/tensorflow_backend.py:541: The name tf.placeholder is deprecated. Please use tf.compat.v1.placeholder instead.\n",
            "\n",
            "WARNING:tensorflow:From /usr/local/lib/python3.6/dist-packages/keras/backend/tensorflow_backend.py:4432: The name tf.random_uniform is deprecated. Please use tf.random.uniform instead.\n",
            "\n",
            "WARNING:tensorflow:From /usr/local/lib/python3.6/dist-packages/keras/optimizers.py:793: The name tf.train.Optimizer is deprecated. Please use tf.compat.v1.train.Optimizer instead.\n",
            "\n",
            "WARNING:tensorflow:From /usr/local/lib/python3.6/dist-packages/tensorflow_core/python/ops/math_grad.py:1424: where (from tensorflow.python.ops.array_ops) is deprecated and will be removed in a future version.\n",
            "Instructions for updating:\n",
            "Use tf.where in 2.0, which has the same broadcast rule as np.where\n",
            "WARNING:tensorflow:From /usr/local/lib/python3.6/dist-packages/keras/backend/tensorflow_backend.py:1033: The name tf.assign_add is deprecated. Please use tf.compat.v1.assign_add instead.\n",
            "\n",
            "WARNING:tensorflow:From /usr/local/lib/python3.6/dist-packages/keras/backend/tensorflow_backend.py:1020: The name tf.assign is deprecated. Please use tf.compat.v1.assign instead.\n",
            "\n",
            "WARNING:tensorflow:From /usr/local/lib/python3.6/dist-packages/keras/backend/tensorflow_backend.py:3005: The name tf.Session is deprecated. Please use tf.compat.v1.Session instead.\n",
            "\n",
            "Epoch 1/50\n",
            "WARNING:tensorflow:From /usr/local/lib/python3.6/dist-packages/keras/backend/tensorflow_backend.py:190: The name tf.get_default_session is deprecated. Please use tf.compat.v1.get_default_session instead.\n",
            "\n",
            "WARNING:tensorflow:From /usr/local/lib/python3.6/dist-packages/keras/backend/tensorflow_backend.py:197: The name tf.ConfigProto is deprecated. Please use tf.compat.v1.ConfigProto instead.\n",
            "\n",
            "WARNING:tensorflow:From /usr/local/lib/python3.6/dist-packages/keras/backend/tensorflow_backend.py:207: The name tf.global_variables is deprecated. Please use tf.compat.v1.global_variables instead.\n",
            "\n",
            "WARNING:tensorflow:From /usr/local/lib/python3.6/dist-packages/keras/backend/tensorflow_backend.py:216: The name tf.is_variable_initialized is deprecated. Please use tf.compat.v1.is_variable_initialized instead.\n",
            "\n",
            "WARNING:tensorflow:From /usr/local/lib/python3.6/dist-packages/keras/backend/tensorflow_backend.py:223: The name tf.variables_initializer is deprecated. Please use tf.compat.v1.variables_initializer instead.\n",
            "\n",
            "12959/12959 [==============================] - 30s 2ms/step - loss: 2.0475e-04\n",
            "Epoch 2/50\n",
            "   57/12959 [..............................] - ETA: 37s - loss: 6.8395e-04"
          ],
          "name": "stdout"
        },
        {
          "output_type": "stream",
          "text": [
            "/usr/local/lib/python3.6/dist-packages/keras/callbacks.py:842: RuntimeWarning: Early stopping conditioned on metric `val_loss` which is not available. Available metrics are: loss\n",
            "  (self.monitor, ','.join(list(logs.keys()))), RuntimeWarning\n"
          ],
          "name": "stderr"
        },
        {
          "output_type": "stream",
          "text": [
            "12959/12959 [==============================] - 31s 2ms/step - loss: 2.0068e-04\n",
            "Epoch 3/50\n",
            "12959/12959 [==============================] - 31s 2ms/step - loss: 2.3946e-04\n",
            "Epoch 4/50\n",
            "12959/12959 [==============================] - 31s 2ms/step - loss: 2.3020e-04\n",
            "Epoch 5/50\n",
            "12959/12959 [==============================] - 32s 2ms/step - loss: 2.3700e-04\n",
            "Epoch 6/50\n",
            "12959/12959 [==============================] - 32s 2ms/step - loss: 2.4488e-04\n",
            "Epoch 7/50\n",
            "12959/12959 [==============================] - 31s 2ms/step - loss: 2.5558e-04\n",
            "Epoch 8/50\n",
            "12959/12959 [==============================] - 31s 2ms/step - loss: 2.6114e-04\n",
            "Epoch 9/50\n",
            "12959/12959 [==============================] - 30s 2ms/step - loss: 2.6064e-04\n",
            "Epoch 10/50\n",
            "12959/12959 [==============================] - 30s 2ms/step - loss: 2.5641e-04\n",
            "Epoch 11/50\n",
            "12959/12959 [==============================] - 31s 2ms/step - loss: 2.5100e-04\n",
            "Epoch 12/50\n",
            "12959/12959 [==============================] - 33s 3ms/step - loss: 2.4085e-04\n",
            "Epoch 13/50\n",
            "12959/12959 [==============================] - 31s 2ms/step - loss: 2.3352e-04\n",
            "Epoch 14/50\n",
            "12959/12959 [==============================] - 30s 2ms/step - loss: 2.2847e-04\n",
            "Epoch 15/50\n",
            "12959/12959 [==============================] - 30s 2ms/step - loss: 2.2349e-04\n",
            "Epoch 16/50\n",
            "12959/12959 [==============================] - 31s 2ms/step - loss: 2.1524e-04\n",
            "Epoch 17/50\n",
            "12959/12959 [==============================] - 30s 2ms/step - loss: 2.0321e-04\n",
            "Epoch 18/50\n",
            "12959/12959 [==============================] - 30s 2ms/step - loss: 1.9379e-04\n",
            "Epoch 19/50\n",
            "12959/12959 [==============================] - 30s 2ms/step - loss: 1.8252e-04\n",
            "Epoch 20/50\n",
            "12959/12959 [==============================] - 30s 2ms/step - loss: 1.6631e-04\n",
            "Epoch 21/50\n",
            "12959/12959 [==============================] - 31s 2ms/step - loss: 1.5018e-04\n",
            "Epoch 22/50\n",
            "12959/12959 [==============================] - 34s 3ms/step - loss: 1.3688e-04\n",
            "Epoch 23/50\n",
            "12959/12959 [==============================] - 32s 2ms/step - loss: 1.2588e-04\n",
            "Epoch 24/50\n",
            "12959/12959 [==============================] - 32s 2ms/step - loss: 1.1661e-04\n",
            "Epoch 25/50\n",
            "12959/12959 [==============================] - 32s 3ms/step - loss: 1.1017e-04\n",
            "Epoch 26/50\n",
            "12959/12959 [==============================] - 32s 2ms/step - loss: 1.0605e-04\n",
            "Epoch 27/50\n",
            "12959/12959 [==============================] - 32s 2ms/step - loss: 1.0462e-04\n",
            "Epoch 28/50\n",
            "12959/12959 [==============================] - 31s 2ms/step - loss: 1.0383e-04\n",
            "Epoch 29/50\n",
            "12959/12959 [==============================] - 31s 2ms/step - loss: 1.0330e-04\n",
            "Epoch 30/50\n",
            "12959/12959 [==============================] - 30s 2ms/step - loss: 1.0298e-04\n",
            "Epoch 31/50\n",
            "12959/12959 [==============================] - 30s 2ms/step - loss: 1.0268e-04\n",
            "Epoch 32/50\n",
            "12959/12959 [==============================] - 33s 3ms/step - loss: 1.0239e-04\n",
            "Epoch 33/50\n",
            "12959/12959 [==============================] - 30s 2ms/step - loss: 1.0184e-04\n",
            "Epoch 34/50\n",
            "12959/12959 [==============================] - 32s 2ms/step - loss: 1.0141e-04\n",
            "Epoch 35/50\n",
            "12959/12959 [==============================] - 31s 2ms/step - loss: 1.0122e-04\n",
            "Epoch 36/50\n",
            "12959/12959 [==============================] - 31s 2ms/step - loss: 1.0149e-04\n",
            "Epoch 37/50\n",
            "12959/12959 [==============================] - 30s 2ms/step - loss: 1.0188e-04\n",
            "Epoch 38/50\n",
            "12959/12959 [==============================] - 30s 2ms/step - loss: 1.0214e-04\n",
            "Epoch 39/50\n",
            "12959/12959 [==============================] - 30s 2ms/step - loss: 1.0215e-04\n",
            "Epoch 40/50\n",
            "12959/12959 [==============================] - 30s 2ms/step - loss: 1.0207e-04\n",
            "Epoch 41/50\n",
            "12959/12959 [==============================] - 30s 2ms/step - loss: 1.0193e-04\n",
            "Epoch 42/50\n",
            "12959/12959 [==============================] - 31s 2ms/step - loss: 1.0187e-04\n",
            "Epoch 43/50\n",
            "12959/12959 [==============================] - 30s 2ms/step - loss: 1.0175e-04\n",
            "Epoch 44/50\n",
            "12959/12959 [==============================] - 30s 2ms/step - loss: 1.0168e-04\n",
            "Epoch 45/50\n",
            "12959/12959 [==============================] - 30s 2ms/step - loss: 1.0159e-04\n",
            "Epoch 46/50\n",
            "12959/12959 [==============================] - 30s 2ms/step - loss: 1.0170e-04\n",
            "Epoch 47/50\n",
            "12959/12959 [==============================] - 29s 2ms/step - loss: 1.0168e-04\n",
            "Epoch 48/50\n",
            "12959/12959 [==============================] - 29s 2ms/step - loss: 1.0155e-04\n",
            "Epoch 49/50\n",
            "12959/12959 [==============================] - 29s 2ms/step - loss: 1.0147e-04\n",
            "Epoch 50/50\n",
            "12959/12959 [==============================] - 30s 2ms/step - loss: 1.0140e-04\n",
            "The R2 score on the Train set is:\t0.655\n",
            "The Adjusted R2 score on the Train set is:\t0.655\n",
            "\n",
            "The R2 score on the Test set is:\t0.643\n",
            "The Adjusted R2 score on the Test set is:\t0.643\n"
          ],
          "name": "stdout"
        }
      ]
    },
    {
      "cell_type": "code",
      "metadata": {
        "id": "PepDkvQsW-K4",
        "colab_type": "code",
        "colab": {}
      },
      "source": [
        "model_lstm.save('LSTM_NonShift.h5')\n",
        "model_lstm = load_model('LSTM_NonShift.h5')"
      ],
      "execution_count": 0,
      "outputs": []
    },
    {
      "cell_type": "code",
      "metadata": {
        "id": "uhMttnzYYxtF",
        "colab_type": "code",
        "colab": {
          "base_uri": "https://localhost:8080/",
          "height": 34
        },
        "outputId": "1d404ece-dfb9-4913-cb45-c8b86d7280c1"
      },
      "source": [
        "score_lstm= model_lstm.evaluate(X_tst_t, y_test, batch_size=1)"
      ],
      "execution_count": 19,
      "outputs": [
        {
          "output_type": "stream",
          "text": [
            "1439/1439 [==============================] - 1s 807us/step\n"
          ],
          "name": "stdout"
        }
      ]
    },
    {
      "cell_type": "code",
      "metadata": {
        "id": "bFMFomVZY7ea",
        "colab_type": "code",
        "colab": {
          "base_uri": "https://localhost:8080/",
          "height": 34
        },
        "outputId": "54ece490-62a6-42cc-83a9-734df1794c77"
      },
      "source": [
        "print('LSTM: %f'%score_lstm)"
      ],
      "execution_count": 20,
      "outputs": [
        {
          "output_type": "stream",
          "text": [
            "LSTM: 0.019217\n"
          ],
          "name": "stdout"
        }
      ]
    },
    {
      "cell_type": "code",
      "metadata": {
        "id": "jkPmZ7jKY_Rj",
        "colab_type": "code",
        "colab": {}
      },
      "source": [
        "y_pred_test_LSTM = model_lstm.predict(X_tst_t)"
      ],
      "execution_count": 0,
      "outputs": []
    },
    {
      "cell_type": "code",
      "metadata": {
        "id": "8nQ7Aql0ZBpZ",
        "colab_type": "code",
        "colab": {
          "base_uri": "https://localhost:8080/",
          "height": 295
        },
        "outputId": "c5df9899-cc81-4433-c42a-8444d008e927"
      },
      "source": [
        "plt.plot(y_test, label='True')\n",
        "plt.plot(y_pred_test_LSTM, label='LSTM')\n",
        "plt.title(\"LSTM's_Prediction\")\n",
        "plt.xlabel('Observation')\n",
        "plt.ylabel('TEC_Scaled')\n",
        "plt.legend()\n",
        "plt.show()"
      ],
      "execution_count": 22,
      "outputs": [
        {
          "output_type": "display_data",
          "data": {
            "image/png": "[encoded data removed]",
            "text/plain": [
              "<Figure size 432x288 with 1 Axes>"
            ]
          },
          "metadata": {
            "tags": []
          }
        }
      ]
    },
    {
      "cell_type": "code",
      "metadata": {
        "id": "RdNf2GS2ZREY",
        "colab_type": "code",
        "colab": {
          "base_uri": "https://localhost:8080/",
          "height": 34
        },
        "outputId": "7959109e-1d7d-4371-9783-86da83345248"
      },
      "source": [
        "from sklearn.metrics import mean_squared_error\n",
        "from math import sqrt\n",
        "\n",
        "rms = sqrt(mean_squared_error(y_test, y_pred_test_LSTM))\n",
        "\n",
        "rms"
      ],
      "execution_count": 23,
      "outputs": [
        {
          "output_type": "execute_result",
          "data": {
            "text/plain": [
              "0.13862577800190426"
            ]
          },
          "metadata": {
            "tags": []
          },
          "execution_count": 23
        }
      ]
    },
    {
      "cell_type": "code",
      "metadata": {
        "id": "upZytEtXRfEC",
        "colab_type": "code",
        "colab": {
          "base_uri": "https://localhost:8080/",
          "height": 136
        },
        "outputId": "b06938ff-fab3-4ee5-9f77-49eedad05424"
      },
      "source": [
        "y_test"
      ],
      "execution_count": 24,
      "outputs": [
        {
          "output_type": "execute_result",
          "data": {
            "text/plain": [
              "array([[0.04605349],\n",
              "       [0.05475397],\n",
              "       [0.06051046],\n",
              "       ...,\n",
              "       [0.02464814],\n",
              "       [0.02412893],\n",
              "       [0.03227832]])"
            ]
          },
          "metadata": {
            "tags": []
          },
          "execution_count": 24
        }
      ]
    },
    {
      "cell_type": "code",
      "metadata": {
        "id": "diBGHb7eRlXE",
        "colab_type": "code",
        "colab": {
          "base_uri": "https://localhost:8080/",
          "height": 238
        },
        "outputId": "85d86438-16b9-4d6b-9dcc-727094f66784"
      },
      "source": [
        "X_tst_t"
      ],
      "execution_count": 25,
      "outputs": [
        {
          "output_type": "execute_result",
          "data": {
            "text/plain": [
              "array([[[0.04565388]],\n",
              "\n",
              "       [[0.04605349]],\n",
              "\n",
              "       [[0.05475397]],\n",
              "\n",
              "       ...,\n",
              "\n",
              "       [[0.03276266]],\n",
              "\n",
              "       [[0.02464814]],\n",
              "\n",
              "       [[0.02412893]]])"
            ]
          },
          "metadata": {
            "tags": []
          },
          "execution_count": 25
        }
      ]
    },
    {
      "cell_type": "code",
      "metadata": {
        "id": "rjsd7A4oSTBJ",
        "colab_type": "code",
        "colab": {}
      },
      "source": [
        ""
      ],
      "execution_count": 0,
      "outputs": []
    }
  ]
}