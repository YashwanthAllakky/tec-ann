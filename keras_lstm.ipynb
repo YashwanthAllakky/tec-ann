{
  "nbformat": 4,
  "nbformat_minor": 0,
  "metadata": {
    "colab": {
      "name": "lstm.ipynb",
      "provenance": [],
      "collapsed_sections": []
    },
    "kernelspec": {
      "name": "python3",
      "display_name": "Python 3"
    },
    "accelerator": "TPU"
  },
  "cells": [
    {
      "cell_type": "code",
      "metadata": {
        "id": "lkbISZoNSYQx",
        "colab_type": "code",
        "colab": {}
      },
      "source": [
        "import pandas as pd\n",
        "import numpy as np\n",
        "%matplotlib inline\n",
        "import matplotlib.pyplot as plt\n",
        "\n",
        "from sklearn.preprocessing import MinMaxScaler\n",
        "from sklearn.metrics import r2_score\n",
        "\n",
        "def adj_r2_score(r2, n, k):\n",
        "    return 1-((1-r2)*((n-1)/(n-k-1)))"
      ],
      "execution_count": 0,
      "outputs": []
    },
    {
      "cell_type": "code",
      "metadata": {
        "id": "4KlaiwrmS0rl",
        "colab_type": "code",
        "colab": {}
      },
      "source": [
        "data_frame = pd.read_csv(\"Train_TEC_mar17.csv\")"
      ],
      "execution_count": 0,
      "outputs": []
    },
    {
      "cell_type": "code",
      "metadata": {
        "id": "pwWopWUCUeX3",
        "colab_type": "code",
        "colab": {
          "base_uri": "https://localhost:8080/",
          "height": 204
        },
        "outputId": "8c4484a6-1291-41e0-b26c-bea1a20f6c91"
      },
      "source": [
        "data_frame.head()"
      ],
      "execution_count": 5,
      "outputs": [
        {
          "output_type": "execute_result",
          "data": {
            "text/html": [
              "<div>\n",
              "<style scoped>\n",
              "    .dataframe tbody tr th:only-of-type {\n",
              "        vertical-align: middle;\n",
              "    }\n",
              "\n",
              "    .dataframe tbody tr th {\n",
              "        vertical-align: top;\n",
              "    }\n",
              "\n",
              "    .dataframe thead th {\n",
              "        text-align: right;\n",
              "    }\n",
              "</style>\n",
              "<table border=\"1\" class=\"dataframe\">\n",
              "  <thead>\n",
              "    <tr style=\"text-align: right;\">\n",
              "      <th></th>\n",
              "      <th>Date</th>\n",
              "      <th>Month</th>\n",
              "      <th>Year</th>\n",
              "      <th>Time</th>\n",
              "      <th>LT</th>\n",
              "      <th>TEC</th>\n",
              "    </tr>\n",
              "  </thead>\n",
              "  <tbody>\n",
              "    <tr>\n",
              "      <th>0</th>\n",
              "      <td>1</td>\n",
              "      <td>3</td>\n",
              "      <td>2017</td>\n",
              "      <td>0.016389</td>\n",
              "      <td>5.311333</td>\n",
              "      <td>2.067562</td>\n",
              "    </tr>\n",
              "    <tr>\n",
              "      <th>1</th>\n",
              "      <td>1</td>\n",
              "      <td>3</td>\n",
              "      <td>2017</td>\n",
              "      <td>0.049722</td>\n",
              "      <td>5.344670</td>\n",
              "      <td>2.082707</td>\n",
              "    </tr>\n",
              "    <tr>\n",
              "      <th>2</th>\n",
              "      <td>1</td>\n",
              "      <td>3</td>\n",
              "      <td>2017</td>\n",
              "      <td>0.083056</td>\n",
              "      <td>5.378006</td>\n",
              "      <td>2.004272</td>\n",
              "    </tr>\n",
              "    <tr>\n",
              "      <th>3</th>\n",
              "      <td>1</td>\n",
              "      <td>3</td>\n",
              "      <td>2017</td>\n",
              "      <td>0.116389</td>\n",
              "      <td>5.411343</td>\n",
              "      <td>1.736569</td>\n",
              "    </tr>\n",
              "    <tr>\n",
              "      <th>4</th>\n",
              "      <td>1</td>\n",
              "      <td>3</td>\n",
              "      <td>2017</td>\n",
              "      <td>0.149722</td>\n",
              "      <td>5.444679</td>\n",
              "      <td>1.758503</td>\n",
              "    </tr>\n",
              "  </tbody>\n",
              "</table>\n",
              "</div>"
            ],
            "text/plain": [
              "   Date  Month  Year      Time        LT       TEC\n",
              "0     1      3  2017  0.016389  5.311333  2.067562\n",
              "1     1      3  2017  0.049722  5.344670  2.082707\n",
              "2     1      3  2017  0.083056  5.378006  2.004272\n",
              "3     1      3  2017  0.116389  5.411343  1.736569\n",
              "4     1      3  2017  0.149722  5.444679  1.758503"
            ]
          },
          "metadata": {
            "tags": []
          },
          "execution_count": 5
        }
      ]
    },
    {
      "cell_type": "code",
      "metadata": {
        "id": "Z8cvp5F5Ufvo",
        "colab_type": "code",
        "colab": {}
      },
      "source": [
        "data_frame.drop([\"Date\", \"Month\", \"Year\", \"Time\"], axis = 1, inplace = True)"
      ],
      "execution_count": 0,
      "outputs": []
    },
    {
      "cell_type": "code",
      "metadata": {
        "id": "jggkjg6LUnnJ",
        "colab_type": "code",
        "colab": {
          "base_uri": "https://localhost:8080/",
          "height": 204
        },
        "outputId": "606789ce-8839-418e-a434-f43d856b507b"
      },
      "source": [
        "data_frame.head()"
      ],
      "execution_count": 7,
      "outputs": [
        {
          "output_type": "execute_result",
          "data": {
            "text/html": [
              "<div>\n",
              "<style scoped>\n",
              "    .dataframe tbody tr th:only-of-type {\n",
              "        vertical-align: middle;\n",
              "    }\n",
              "\n",
              "    .dataframe tbody tr th {\n",
              "        vertical-align: top;\n",
              "    }\n",
              "\n",
              "    .dataframe thead th {\n",
              "        text-align: right;\n",
              "    }\n",
              "</style>\n",
              "<table border=\"1\" class=\"dataframe\">\n",
              "  <thead>\n",
              "    <tr style=\"text-align: right;\">\n",
              "      <th></th>\n",
              "      <th>LT</th>\n",
              "      <th>TEC</th>\n",
              "    </tr>\n",
              "  </thead>\n",
              "  <tbody>\n",
              "    <tr>\n",
              "      <th>0</th>\n",
              "      <td>5.311333</td>\n",
              "      <td>2.067562</td>\n",
              "    </tr>\n",
              "    <tr>\n",
              "      <th>1</th>\n",
              "      <td>5.344670</td>\n",
              "      <td>2.082707</td>\n",
              "    </tr>\n",
              "    <tr>\n",
              "      <th>2</th>\n",
              "      <td>5.378006</td>\n",
              "      <td>2.004272</td>\n",
              "    </tr>\n",
              "    <tr>\n",
              "      <th>3</th>\n",
              "      <td>5.411343</td>\n",
              "      <td>1.736569</td>\n",
              "    </tr>\n",
              "    <tr>\n",
              "      <th>4</th>\n",
              "      <td>5.444679</td>\n",
              "      <td>1.758503</td>\n",
              "    </tr>\n",
              "  </tbody>\n",
              "</table>\n",
              "</div>"
            ],
            "text/plain": [
              "         LT       TEC\n",
              "0  5.311333  2.067562\n",
              "1  5.344670  2.082707\n",
              "2  5.378006  2.004272\n",
              "3  5.411343  1.736569\n",
              "4  5.444679  1.758503"
            ]
          },
          "metadata": {
            "tags": []
          },
          "execution_count": 7
        }
      ]
    },
    {
      "cell_type": "code",
      "metadata": {
        "id": "a3J4XjAaUrNw",
        "colab_type": "code",
        "colab": {}
      },
      "source": [
        "df = pd.DataFrame(data_frame[\"TEC\"])"
      ],
      "execution_count": 0,
      "outputs": []
    },
    {
      "cell_type": "code",
      "metadata": {
        "id": "sMNXRPRgU3eA",
        "colab_type": "code",
        "colab": {
          "base_uri": "https://localhost:8080/",
          "height": 204
        },
        "outputId": "ff6bf8bf-763a-4163-96d1-cd54c24056d7"
      },
      "source": [
        "df.head()"
      ],
      "execution_count": 9,
      "outputs": [
        {
          "output_type": "execute_result",
          "data": {
            "text/html": [
              "<div>\n",
              "<style scoped>\n",
              "    .dataframe tbody tr th:only-of-type {\n",
              "        vertical-align: middle;\n",
              "    }\n",
              "\n",
              "    .dataframe tbody tr th {\n",
              "        vertical-align: top;\n",
              "    }\n",
              "\n",
              "    .dataframe thead th {\n",
              "        text-align: right;\n",
              "    }\n",
              "</style>\n",
              "<table border=\"1\" class=\"dataframe\">\n",
              "  <thead>\n",
              "    <tr style=\"text-align: right;\">\n",
              "      <th></th>\n",
              "      <th>TEC</th>\n",
              "    </tr>\n",
              "  </thead>\n",
              "  <tbody>\n",
              "    <tr>\n",
              "      <th>0</th>\n",
              "      <td>2.067562</td>\n",
              "    </tr>\n",
              "    <tr>\n",
              "      <th>1</th>\n",
              "      <td>2.082707</td>\n",
              "    </tr>\n",
              "    <tr>\n",
              "      <th>2</th>\n",
              "      <td>2.004272</td>\n",
              "    </tr>\n",
              "    <tr>\n",
              "      <th>3</th>\n",
              "      <td>1.736569</td>\n",
              "    </tr>\n",
              "    <tr>\n",
              "      <th>4</th>\n",
              "      <td>1.758503</td>\n",
              "    </tr>\n",
              "  </tbody>\n",
              "</table>\n",
              "</div>"
            ],
            "text/plain": [
              "        TEC\n",
              "0  2.067562\n",
              "1  2.082707\n",
              "2  2.004272\n",
              "3  1.736569\n",
              "4  1.758503"
            ]
          },
          "metadata": {
            "tags": []
          },
          "execution_count": 9
        }
      ]
    },
    {
      "cell_type": "code",
      "metadata": {
        "id": "sW2WeiVPU4Ud",
        "colab_type": "code",
        "colab": {
          "base_uri": "https://localhost:8080/",
          "height": 282
        },
        "outputId": "5a19db6a-13be-4846-ab7a-771a0cc73bed"
      },
      "source": [
        "df.plot()"
      ],
      "execution_count": 10,
      "outputs": [
        {
          "output_type": "execute_result",
          "data": {
            "text/plain": [
              "<matplotlib.axes._subplots.AxesSubplot at 0x7f0d9ff4cc50>"
            ]
          },
          "metadata": {
            "tags": []
          },
          "execution_count": 10
        },
        {
          "output_type": "display_data",
          "data": {
            "image/png": "[encoded data removed]",
            "text/plain": [
              "<Figure size 432x288 with 1 Axes>"
            ]
          },
          "metadata": {
            "tags": []
          }
        }
      ]
    },
    {
      "cell_type": "code",
      "metadata": {
        "id": "lxxClK3gU6yc",
        "colab_type": "code",
        "colab": {
          "base_uri": "https://localhost:8080/",
          "height": 34
        },
        "outputId": "81308d10-1bc5-4253-e052-cbbfd228ee4b"
      },
      "source": [
        "train = df[:-1440]\n",
        "test = df[-1440:]\n",
        "train.shape, test.shape"
      ],
      "execution_count": 11,
      "outputs": [
        {
          "output_type": "execute_result",
          "data": {
            "text/plain": [
              "((12960, 1), (1440, 1))"
            ]
          },
          "metadata": {
            "tags": []
          },
          "execution_count": 11
        }
      ]
    },
    {
      "cell_type": "code",
      "metadata": {
        "id": "FKUBcHgPVCTC",
        "colab_type": "code",
        "colab": {
          "base_uri": "https://localhost:8080/",
          "height": 282
        },
        "outputId": "c301d591-5b53-4778-c763-71ca8e6461bb"
      },
      "source": [
        "ax = train.plot()\n",
        "test.plot(ax=ax)\n",
        "plt.legend(['train', 'test'])"
      ],
      "execution_count": 12,
      "outputs": [
        {
          "output_type": "execute_result",
          "data": {
            "text/plain": [
              "<matplotlib.legend.Legend at 0x7f0d9fa6ecf8>"
            ]
          },
          "metadata": {
            "tags": []
          },
          "execution_count": 12
        },
        {
          "output_type": "display_data",
          "data": {
            "image/png": "[encoded data removed]",
            "text/plain": [
              "<Figure size 432x288 with 1 Axes>"
            ]
          },
          "metadata": {
            "tags": []
          }
        }
      ]
    },
    {
      "cell_type": "code",
      "metadata": {
        "id": "tqxgvFoTVHxs",
        "colab_type": "code",
        "colab": {}
      },
      "source": [
        "sc = MinMaxScaler()\n",
        "train_sc = sc.fit_transform(train)\n",
        "test_sc = sc.transform(test)"
      ],
      "execution_count": 0,
      "outputs": []
    },
    {
      "cell_type": "code",
      "metadata": {
        "id": "A6Yg9Sr9VMFr",
        "colab_type": "code",
        "colab": {
          "base_uri": "https://localhost:8080/",
          "height": 136
        },
        "outputId": "e3b49107-fea5-4cae-95df-82ede0472b99"
      },
      "source": [
        "train_sc"
      ],
      "execution_count": 14,
      "outputs": [
        {
          "output_type": "execute_result",
          "data": {
            "text/plain": [
              "array([[0.04266831],\n",
              "       [0.04303103],\n",
              "       [0.04115251],\n",
              "       ...,\n",
              "       [0.02035242],\n",
              "       [0.01636847],\n",
              "       [0.02202376]])"
            ]
          },
          "metadata": {
            "tags": []
          },
          "execution_count": 14
        }
      ]
    },
    {
      "cell_type": "code",
      "metadata": {
        "id": "1m7g8L0CWilQ",
        "colab_type": "code",
        "colab": {
          "base_uri": "https://localhost:8080/",
          "height": 136
        },
        "outputId": "c1be106a-4b67-4206-f007-bfe30a888e40"
      },
      "source": [
        "test_sc"
      ],
      "execution_count": 15,
      "outputs": [
        {
          "output_type": "execute_result",
          "data": {
            "text/plain": [
              "array([[0.04565388],\n",
              "       [0.04605349],\n",
              "       [0.05475397],\n",
              "       ...,\n",
              "       [0.02464814],\n",
              "       [0.02412893],\n",
              "       [0.03227832]])"
            ]
          },
          "metadata": {
            "tags": []
          },
          "execution_count": 15
        }
      ]
    },
    {
      "cell_type": "code",
      "metadata": {
        "id": "i7spYdm2WnLG",
        "colab_type": "code",
        "colab": {}
      },
      "source": [
        "X_train = train_sc[:-1]\n",
        "y_train = train_sc[1:]\n",
        "\n",
        "X_test = test_sc[:-1]\n",
        "y_test = test_sc[1:]"
      ],
      "execution_count": 0,
      "outputs": []
    },
    {
      "cell_type": "code",
      "metadata": {
        "id": "nF9Hbh2XWq1d",
        "colab_type": "code",
        "colab": {}
      },
      "source": [
        "X_tr_t = X_train.reshape(X_train.shape[0], 1, X_train.shape[1])\n",
        "X_tst_t = X_test.reshape(X_test.shape[0], 1, X_test.shape[1])\n"
      ],
      "execution_count": 0,
      "outputs": []
    },
    {
      "cell_type": "code",
      "metadata": {
        "id": "59iSydwhXB6O",
        "colab_type": "code",
        "colab": {
          "base_uri": "https://localhost:8080/",
          "height": 80
        },
        "outputId": "c0df363e-0dd4-4086-9a9f-412cf76db560"
      },
      "source": [
        "from keras.models import Sequential\n",
        "from keras.layers import Dense\n",
        "import keras.backend as K\n",
        "from keras.callbacks import EarlyStopping\n",
        "from keras.optimizers import Adam\n",
        "from keras.models import load_model"
      ],
      "execution_count": 18,
      "outputs": [
        {
          "output_type": "stream",
          "text": [
            "Using TensorFlow backend.\n"
          ],
          "name": "stderr"
        },
        {
          "output_type": "display_data",
          "data": {
            "text/html": [
              "<p style=\"color: red;\">\n",
              "The default version of TensorFlow in Colab will soon switch to TensorFlow 2.x.<br>\n",
              "We recommend you <a href=\"https://www.tensorflow.org/guide/migrate\" target=\"_blank\">upgrade</a> now \n",
              "or ensure your notebook will continue to use TensorFlow 1.x via the <code>%tensorflow_version 1.x</code> magic:\n",
              "<a href=\"https://colab.research.google.com/notebooks/tensorflow_version.ipynb\" target=\"_blank\">more info</a>.</p>\n"
            ],
            "text/plain": [
              "<IPython.core.display.HTML object>"
            ]
          },
          "metadata": {
            "tags": []
          }
        }
      ]
    },
    {
      "cell_type": "code",
      "metadata": {
        "id": "T7hUaUNIW5iI",
        "colab_type": "code",
        "colab": {
          "base_uri": "https://localhost:8080/",
          "height": 1000
        },
        "outputId": "6110c825-3bde-4615-9d58-55098dab947e"
      },
      "source": [
        "from keras.layers import LSTM\n",
        "K.clear_session()\n",
        "model_lstm = Sequential()\n",
        "model_lstm.add(LSTM(7, input_shape=(1, X_train.shape[1]), activation='relu', kernel_initializer='lecun_uniform', return_sequences=False))\n",
        "model_lstm.add(Dense(1))\n",
        "model_lstm.compile(loss='mean_squared_error', optimizer='adam')\n",
        "early_stop = EarlyStopping(monitor='val_loss', patience=5, verbose=1)\n",
        "history_model_lstm = model_lstm.fit(X_tr_t, y_train, epochs=100, batch_size=1, verbose=1, shuffle=False, callbacks=[early_stop])\n",
        "\n",
        "y_pred_test_lstm = model_lstm.predict(X_tst_t)\n",
        "y_train_pred_lstm = model_lstm.predict(X_tr_t)\n",
        "print(\"The R2 score on the Train set is:\\t{:0.3f}\".format(r2_score(y_train, y_train_pred_lstm)))\n",
        "r2_train = r2_score(y_train, y_train_pred_lstm)\n",
        "print(\"The Adjusted R2 score on the Train set is:\\t{:0.3f}\\n\".format(adj_r2_score(r2_train, X_train.shape[0], X_train.shape[1])))\n",
        "print(\"The R2 score on the Test set is:\\t{:0.3f}\".format(r2_score(y_test, y_pred_test_lstm)))\n",
        "r2_test = r2_score(y_test, y_pred_test_lstm)\n",
        "print(\"The Adjusted R2 score on the Test set is:\\t{:0.3f}\".format(adj_r2_score(r2_test, X_test.shape[0], X_test.shape[1])))"
      ],
      "execution_count": 44,
      "outputs": [
        {
          "output_type": "stream",
          "text": [
            "Epoch 1/100\n",
            "12959/12959 [==============================] - 27s 2ms/step - loss: 8.4150e-04\n",
            "Epoch 2/100\n",
            "   72/12959 [..............................] - ETA: 28s - loss: 0.0010    "
          ],
          "name": "stdout"
        },
        {
          "output_type": "stream",
          "text": [
            "/usr/local/lib/python3.6/dist-packages/keras/callbacks.py:842: RuntimeWarning: Early stopping conditioned on metric `val_loss` which is not available. Available metrics are: loss\n",
            "  (self.monitor, ','.join(list(logs.keys()))), RuntimeWarning\n"
          ],
          "name": "stderr"
        },
        {
          "output_type": "stream",
          "text": [
            "12959/12959 [==============================] - 27s 2ms/step - loss: 1.2840e-04\n",
            "Epoch 3/100\n",
            "12959/12959 [==============================] - 29s 2ms/step - loss: 1.4759e-04\n",
            "Epoch 4/100\n",
            "12959/12959 [==============================] - 27s 2ms/step - loss: 1.4392e-04\n",
            "Epoch 5/100\n",
            "12959/12959 [==============================] - 27s 2ms/step - loss: 1.4027e-04\n",
            "Epoch 6/100\n",
            "12959/12959 [==============================] - 27s 2ms/step - loss: 1.3077e-04\n",
            "Epoch 7/100\n",
            "12959/12959 [==============================] - 27s 2ms/step - loss: 1.3487e-04\n",
            "Epoch 8/100\n",
            "12959/12959 [==============================] - 28s 2ms/step - loss: 1.2399e-04\n",
            "Epoch 9/100\n",
            "12959/12959 [==============================] - 27s 2ms/step - loss: 1.4413e-04\n",
            "Epoch 10/100\n",
            "12959/12959 [==============================] - 27s 2ms/step - loss: 1.3472e-04\n",
            "Epoch 11/100\n",
            "12959/12959 [==============================] - 28s 2ms/step - loss: 1.3175e-04\n",
            "Epoch 12/100\n",
            "12959/12959 [==============================] - 28s 2ms/step - loss: 1.3156e-04\n",
            "Epoch 13/100\n",
            "12959/12959 [==============================] - 28s 2ms/step - loss: 1.3203e-04\n",
            "Epoch 14/100\n",
            "12959/12959 [==============================] - 29s 2ms/step - loss: 1.3273e-04\n",
            "Epoch 15/100\n",
            "12959/12959 [==============================] - 28s 2ms/step - loss: 1.3360e-04\n",
            "Epoch 16/100\n",
            "12959/12959 [==============================] - 29s 2ms/step - loss: 1.3471e-04\n",
            "Epoch 17/100\n",
            "12959/12959 [==============================] - 28s 2ms/step - loss: 1.3613e-04\n",
            "Epoch 18/100\n",
            "12959/12959 [==============================] - 28s 2ms/step - loss: 1.3811e-04\n",
            "Epoch 19/100\n",
            "12959/12959 [==============================] - 29s 2ms/step - loss: 1.3796e-04\n",
            "Epoch 20/100\n",
            "12959/12959 [==============================] - 28s 2ms/step - loss: 1.3777e-04\n",
            "Epoch 21/100\n",
            "12959/12959 [==============================] - 28s 2ms/step - loss: 1.3934e-04\n",
            "Epoch 22/100\n",
            "12959/12959 [==============================] - 28s 2ms/step - loss: 1.4153e-04\n",
            "Epoch 23/100\n",
            "12959/12959 [==============================] - 31s 2ms/step - loss: 1.4417e-04\n",
            "Epoch 24/100\n",
            "12959/12959 [==============================] - 32s 2ms/step - loss: 1.4686e-04\n",
            "Epoch 25/100\n",
            "12959/12959 [==============================] - 34s 3ms/step - loss: 1.4979e-04\n",
            "Epoch 26/100\n",
            "12959/12959 [==============================] - 33s 3ms/step - loss: 1.5293e-04\n",
            "Epoch 27/100\n",
            "12959/12959 [==============================] - 33s 3ms/step - loss: 1.5650e-04\n",
            "Epoch 28/100\n",
            "12959/12959 [==============================] - 33s 3ms/step - loss: 1.6024e-04\n",
            "Epoch 29/100\n",
            "12959/12959 [==============================] - 33s 3ms/step - loss: 1.6387e-04\n",
            "Epoch 30/100\n",
            "12959/12959 [==============================] - 31s 2ms/step - loss: 1.6716e-04\n",
            "Epoch 31/100\n",
            "12959/12959 [==============================] - 32s 2ms/step - loss: 1.7061e-04\n",
            "Epoch 32/100\n",
            "12959/12959 [==============================] - 32s 2ms/step - loss: 1.7401e-04\n",
            "Epoch 33/100\n",
            "12959/12959 [==============================] - 31s 2ms/step - loss: 1.7715e-04\n",
            "Epoch 34/100\n",
            "12959/12959 [==============================] - 31s 2ms/step - loss: 1.8005e-04\n",
            "Epoch 35/100\n",
            "12959/12959 [==============================] - 31s 2ms/step - loss: 1.8283e-04\n",
            "Epoch 36/100\n",
            "12959/12959 [==============================] - 30s 2ms/step - loss: 1.8526e-04\n",
            "Epoch 37/100\n",
            "12959/12959 [==============================] - 30s 2ms/step - loss: 1.8759e-04\n",
            "Epoch 38/100\n",
            "12959/12959 [==============================] - 30s 2ms/step - loss: 1.8948e-04\n",
            "Epoch 39/100\n",
            "12959/12959 [==============================] - 30s 2ms/step - loss: 1.9134e-04\n",
            "Epoch 40/100\n",
            "12959/12959 [==============================] - 30s 2ms/step - loss: 1.9304e-04\n",
            "Epoch 41/100\n",
            "12959/12959 [==============================] - 30s 2ms/step - loss: 1.9443e-04\n",
            "Epoch 42/100\n",
            "12959/12959 [==============================] - 30s 2ms/step - loss: 1.9571e-04\n",
            "Epoch 43/100\n",
            "12959/12959 [==============================] - 30s 2ms/step - loss: 1.9672e-04\n",
            "Epoch 44/100\n",
            "12959/12959 [==============================] - 30s 2ms/step - loss: 1.9774e-04\n",
            "Epoch 45/100\n",
            "12959/12959 [==============================] - 31s 2ms/step - loss: 1.9862e-04\n",
            "Epoch 46/100\n",
            "12959/12959 [==============================] - 30s 2ms/step - loss: 1.9944e-04\n",
            "Epoch 47/100\n",
            "12959/12959 [==============================] - 30s 2ms/step - loss: 2.0015e-04\n",
            "Epoch 48/100\n",
            "12959/12959 [==============================] - 30s 2ms/step - loss: 2.0073e-04\n",
            "Epoch 49/100\n",
            "12959/12959 [==============================] - 30s 2ms/step - loss: 2.0124e-04\n",
            "Epoch 50/100\n",
            "12959/12959 [==============================] - 31s 2ms/step - loss: 2.0169e-04\n",
            "Epoch 51/100\n",
            "12959/12959 [==============================] - 32s 3ms/step - loss: 2.0207e-04\n",
            "Epoch 52/100\n",
            "12959/12959 [==============================] - 32s 2ms/step - loss: 2.0240e-04\n",
            "Epoch 53/100\n",
            "12959/12959 [==============================] - 33s 3ms/step - loss: 2.0267e-04\n",
            "Epoch 54/100\n",
            "12959/12959 [==============================] - 33s 3ms/step - loss: 2.0291e-04\n",
            "Epoch 55/100\n",
            "12959/12959 [==============================] - 33s 3ms/step - loss: 2.0312e-04\n",
            "Epoch 56/100\n",
            "12959/12959 [==============================] - 31s 2ms/step - loss: 2.0329e-04\n",
            "Epoch 57/100\n",
            "12959/12959 [==============================] - 31s 2ms/step - loss: 2.0344e-04\n",
            "Epoch 58/100\n",
            "12959/12959 [==============================] - 31s 2ms/step - loss: 2.0356e-04\n",
            "Epoch 59/100\n",
            "12959/12959 [==============================] - 32s 2ms/step - loss: 2.0367e-04\n",
            "Epoch 60/100\n",
            "12959/12959 [==============================] - 32s 2ms/step - loss: 2.0376e-04\n",
            "Epoch 61/100\n",
            "12959/12959 [==============================] - 31s 2ms/step - loss: 2.0383e-04\n",
            "Epoch 62/100\n",
            "12959/12959 [==============================] - 30s 2ms/step - loss: 2.0390e-04\n",
            "Epoch 63/100\n",
            "12959/12959 [==============================] - 31s 2ms/step - loss: 2.0396e-04\n",
            "Epoch 64/100\n",
            "12959/12959 [==============================] - 31s 2ms/step - loss: 2.0400e-04\n",
            "Epoch 65/100\n",
            "12959/12959 [==============================] - 33s 3ms/step - loss: 2.0402e-04\n",
            "Epoch 66/100\n",
            "12959/12959 [==============================] - 31s 2ms/step - loss: 2.0405e-04\n",
            "Epoch 67/100\n",
            "12959/12959 [==============================] - 31s 2ms/step - loss: 2.0408e-04\n",
            "Epoch 68/100\n",
            "12959/12959 [==============================] - 31s 2ms/step - loss: 2.0408e-04\n",
            "Epoch 69/100\n",
            "12959/12959 [==============================] - 31s 2ms/step - loss: 2.0409e-04\n",
            "Epoch 70/100\n",
            "12959/12959 [==============================] - 31s 2ms/step - loss: 2.0410e-04\n",
            "Epoch 71/100\n",
            "12959/12959 [==============================] - 31s 2ms/step - loss: 2.0410e-04\n",
            "Epoch 72/100\n",
            "12959/12959 [==============================] - 30s 2ms/step - loss: 2.0410e-04\n",
            "Epoch 73/100\n",
            "12959/12959 [==============================] - 30s 2ms/step - loss: 2.0409e-04\n",
            "Epoch 74/100\n",
            "12959/12959 [==============================] - 30s 2ms/step - loss: 2.0409e-04\n",
            "Epoch 75/100\n",
            "12959/12959 [==============================] - 31s 2ms/step - loss: 2.0409e-04\n",
            "Epoch 76/100\n",
            "12959/12959 [==============================] - 31s 2ms/step - loss: 2.0404e-04\n",
            "Epoch 77/100\n",
            "12959/12959 [==============================] - 31s 2ms/step - loss: 2.0404e-04\n",
            "Epoch 78/100\n",
            "12959/12959 [==============================] - 29s 2ms/step - loss: 2.0404e-04\n",
            "Epoch 79/100\n",
            "12959/12959 [==============================] - 31s 2ms/step - loss: 2.0403e-04\n",
            "Epoch 80/100\n",
            "12959/12959 [==============================] - 31s 2ms/step - loss: 2.0402e-04\n",
            "Epoch 81/100\n",
            "12959/12959 [==============================] - 31s 2ms/step - loss: 2.0401e-04\n",
            "Epoch 82/100\n",
            "12959/12959 [==============================] - 31s 2ms/step - loss: 2.0399e-04\n",
            "Epoch 83/100\n",
            "12959/12959 [==============================] - 32s 2ms/step - loss: 2.0398e-04\n",
            "Epoch 84/100\n",
            "12959/12959 [==============================] - 32s 2ms/step - loss: 2.0397e-04\n",
            "Epoch 85/100\n",
            "12959/12959 [==============================] - 35s 3ms/step - loss: 2.0396e-04\n",
            "Epoch 86/100\n",
            "12959/12959 [==============================] - 32s 2ms/step - loss: 2.0395e-04\n",
            "Epoch 87/100\n",
            "12959/12959 [==============================] - 31s 2ms/step - loss: 2.0393e-04\n",
            "Epoch 88/100\n",
            "12959/12959 [==============================] - 31s 2ms/step - loss: 2.0392e-04\n",
            "Epoch 89/100\n",
            "12959/12959 [==============================] - 31s 2ms/step - loss: 2.0391e-04\n",
            "Epoch 90/100\n",
            "12959/12959 [==============================] - 32s 2ms/step - loss: 2.0389e-04\n",
            "Epoch 91/100\n",
            "12959/12959 [==============================] - 31s 2ms/step - loss: 2.0388e-04\n",
            "Epoch 92/100\n",
            "12959/12959 [==============================] - 31s 2ms/step - loss: 2.0386e-04\n",
            "Epoch 93/100\n",
            "12959/12959 [==============================] - 30s 2ms/step - loss: 2.0384e-04\n",
            "Epoch 94/100\n",
            "12959/12959 [==============================] - 30s 2ms/step - loss: 2.0384e-04\n",
            "Epoch 95/100\n",
            "12959/12959 [==============================] - 30s 2ms/step - loss: 2.0380e-04\n",
            "Epoch 96/100\n",
            "12959/12959 [==============================] - 30s 2ms/step - loss: 2.0379e-04\n",
            "Epoch 97/100\n",
            "12959/12959 [==============================] - 30s 2ms/step - loss: 2.0377e-04\n",
            "Epoch 98/100\n",
            "12959/12959 [==============================] - 30s 2ms/step - loss: 2.0376e-04\n",
            "Epoch 99/100\n",
            "12959/12959 [==============================] - 30s 2ms/step - loss: 2.0375e-04\n",
            "Epoch 100/100\n",
            "12959/12959 [==============================] - 31s 2ms/step - loss: 2.0373e-04\n",
            "The R2 score on the Train set is:\t0.090\n",
            "The Adjusted R2 score on the Train set is:\t0.090\n",
            "\n",
            "The R2 score on the Test set is:\t0.226\n",
            "The Adjusted R2 score on the Test set is:\t0.226\n"
          ],
          "name": "stdout"
        }
      ]
    },
    {
      "cell_type": "code",
      "metadata": {
        "id": "PepDkvQsW-K4",
        "colab_type": "code",
        "colab": {}
      },
      "source": [
        "model_lstm.save('LSTM_NonShift.h5')\n",
        "model_lstm = load_model('LSTM_NonShift.h5')"
      ],
      "execution_count": 0,
      "outputs": []
    },
    {
      "cell_type": "code",
      "metadata": {
        "id": "uhMttnzYYxtF",
        "colab_type": "code",
        "colab": {
          "base_uri": "https://localhost:8080/",
          "height": 34
        },
        "outputId": "c66697d0-6b26-4598-fce9-8528f866dbea"
      },
      "source": [
        "score_lstm= model_lstm.evaluate(X_tst_t, y_test, batch_size=1)"
      ],
      "execution_count": 46,
      "outputs": [
        {
          "output_type": "stream",
          "text": [
            "1439/1439 [==============================] - 1s 775us/step\n"
          ],
          "name": "stdout"
        }
      ]
    },
    {
      "cell_type": "code",
      "metadata": {
        "id": "bFMFomVZY7ea",
        "colab_type": "code",
        "colab": {
          "base_uri": "https://localhost:8080/",
          "height": 34
        },
        "outputId": "048e3c43-dc35-438c-ec29-c552801f515a"
      },
      "source": [
        "print('LSTM: %f'%score_lstm)"
      ],
      "execution_count": 47,
      "outputs": [
        {
          "output_type": "stream",
          "text": [
            "LSTM: 0.041635\n"
          ],
          "name": "stdout"
        }
      ]
    },
    {
      "cell_type": "code",
      "metadata": {
        "id": "jkPmZ7jKY_Rj",
        "colab_type": "code",
        "colab": {}
      },
      "source": [
        "y_pred_test_LSTM = model_lstm.predict(X_tst_t)"
      ],
      "execution_count": 0,
      "outputs": []
    },
    {
      "cell_type": "code",
      "metadata": {
        "id": "8nQ7Aql0ZBpZ",
        "colab_type": "code",
        "colab": {
          "base_uri": "https://localhost:8080/",
          "height": 295
        },
        "outputId": "9c585ddf-c82f-4ee9-f26c-90b00ee5d130"
      },
      "source": [
        "plt.plot(y_test, label='True')\n",
        "plt.plot(y_pred_test_LSTM, label='LSTM')\n",
        "plt.title(\"LSTM's_Prediction\")\n",
        "plt.xlabel('Observation')\n",
        "plt.ylabel('TEC_Scaled')\n",
        "plt.legend()\n",
        "plt.show()"
      ],
      "execution_count": 49,
      "outputs": [
        {
          "output_type": "display_data",
          "data": {
            "image/png": "[encoded data removed]",
            "text/plain": [
              "<Figure size 432x288 with 1 Axes>"
            ]
          },
          "metadata": {
            "tags": []
          }
        }
      ]
    },
    {
      "cell_type": "code",
      "metadata": {
        "id": "RdNf2GS2ZREY",
        "colab_type": "code",
        "colab": {}
      },
      "source": [
        ""
      ],
      "execution_count": 0,
      "outputs": []
    }
  ]
}